{
 "cells": [
  {
   "cell_type": "code",
   "execution_count": 1,
   "id": "e1350184",
   "metadata": {},
   "outputs": [],
   "source": [
    "import time\n",
    "import numpy as np\n",
    "import pandas as pd\n",
    "\n",
    "from tqdm import tqdm\n",
    "tqdm.pandas()\n",
    "\n",
    "import seaborn as sns\n",
    "import matplotlib.pyplot as plt"
   ]
  },
  {
   "cell_type": "code",
   "execution_count": 2,
   "id": "aba83738",
   "metadata": {},
   "outputs": [],
   "source": [
    "RL_COLS = ['rl_15', 'rl_16', 'rl_17', 'rl_18', 'rl_19',\n",
    "           'rl_20', 'rl_21', 'rl_22', 'rl_23', 'rl_24', \n",
    "           'rl_25', 'rl_26', 'rl_27', 'rl_28', 'rl_29', \n",
    "           'rl_30', 'rl_31']\n",
    "\n",
    "RL_COLS_REVERSED = [col for col in reversed(RL_COLS)]\n",
    "\n",
    "SELECT_COLS = RL_COLS + ['A', 'C', 'G', 'T']\n",
    "\n",
    "WINDOW_LEN = 15\n",
    "THRESHOLD_PER_M = 5."
   ]
  },
  {
   "cell_type": "code",
   "execution_count": 89,
   "id": "cabb9b76",
   "metadata": {},
   "outputs": [
    {
     "name": "stdout",
     "output_type": "stream",
     "text": [
      "final_ckpt_with_labels.csv        \u001b[1m\u001b[36mopenml\u001b[m\u001b[m\r\n",
      "final_ckpt_wo_labels.csv          positive_strand_reads.tsv\r\n",
      "final_selected_df.csv             positive_strand_start_sites.tsv\r\n",
      "final_selected_df_per_M.csv       positive_strand_with_features.csv\r\n",
      "keep_data.csv\r\n"
     ]
    }
   ],
   "source": [
    "!ls ../data/"
   ]
  },
  {
   "cell_type": "code",
   "execution_count": 3,
   "id": "f75d0f56",
   "metadata": {},
   "outputs": [
    {
     "data": {
      "text/plain": [
       "((2109, 2), (4641652, 19))"
      ]
     },
     "execution_count": 3,
     "metadata": {},
     "output_type": "execute_result"
    }
   ],
   "source": [
    "df_start_sites = pd.read_csv(\"../data/positive_strand_start_sites.tsv\", sep=\"\\t\")\n",
    "df_reads = pd.read_csv(\"../data/positive_strand_reads.tsv\", sep=\"\\t\")\n",
    "\n",
    "# df_start_sites = pd.read_csv(\"../data/positive_strand_start_sites.tsv\", sep=\"\\t\")\n",
    "# df_reads = pd.read_csv(\"../data/positive_strand_reads.tsv\", sep=\"\\t\")\n",
    "\n",
    "df_start_sites.shape, df_reads.shape"
   ]
  },
  {
   "cell_type": "code",
   "execution_count": 5,
   "id": "6a16588e",
   "metadata": {},
   "outputs": [
    {
     "name": "stderr",
     "output_type": "stream",
     "text": [
      "100%|██████████| 4641652/4641652 [02:52<00:00, 26976.55it/s]\n",
      "100%|██████████| 4641652/4641652 [02:52<00:00, 26863.21it/s]\n",
      "100%|██████████| 4641652/4641652 [02:46<00:00, 27939.83it/s]\n"
     ]
    }
   ],
   "source": [
    "def non_zero_read_lengths(row):\n",
    "    \"\"\" Are all columns rl_15...rl_31 equal to 0 in this sample? \"\"\"\n",
    "    return any([row[col] for col in RL_COLS])\n",
    "\n",
    "def calc_num_reads_at_pos(row):\n",
    "    \"\"\" Sum of columns rl_15...rl_31 for a sample. \"\"\"\n",
    "    return sum([row[col] for col in RL_COLS])\n",
    "\n",
    "def largest_read_length(row):\n",
    "    \"\"\" Represents the read length of the longest read found in this sample. \"\"\"\n",
    "    largest_rl = 0\n",
    "    for col in RL_COLS_REVERSED:\n",
    "        if row[col] > 0:\n",
    "            largest_rl = int(col.split('_')[1])\n",
    "            break\n",
    "            \n",
    "    return largest_rl\n",
    "\n",
    "df_reads['is_non_zero_length'] = df_reads.progress_apply(non_zero_read_lengths, axis=1)\n",
    "df_reads['num_reads'] = df_reads.progress_apply(calc_num_reads_at_pos, axis=1)\n",
    "df_reads['largest_rl'] = df_reads.progress_apply(largest_read_length, axis=1)\n",
    "\n",
    "# Reads per million\n",
    "df_reads['reads_per_M'] = df_reads['num_reads']*1000000/df_reads['num_reads'].sum()"
   ]
  },
  {
   "cell_type": "code",
   "execution_count": 10,
   "id": "e00709bb",
   "metadata": {},
   "outputs": [],
   "source": [
    "class DataSelector:\n",
    "    \n",
    "    def __init__(self, df, threshold=5.):\n",
    "        self.df = df.copy()\n",
    "        self.threshold = threshold\n",
    "        \n",
    "        self.df[\"is_selected\"] = False\n",
    "    \n",
    "    def select(self, row):\n",
    "        if not row['is_non_zero_length'] or row['reads_per_M'] < self.threshold:\n",
    "            return\n",
    "        \n",
    "        largest_read_length = row['largest_rl']\n",
    "        \n",
    "        first_index = row['position'] - largest_read_length - 1\n",
    "        last_index = row['position'] - 1\n",
    "        \n",
    "        self.df.loc[first_index:last_index, 'is_selected'] = True"
   ]
  },
  {
   "cell_type": "code",
   "execution_count": 11,
   "id": "ad70717f",
   "metadata": {},
   "outputs": [],
   "source": [
    "# test_df = df_reads.loc[0:100000]\n",
    "# print(test_df['is_non_zero_length'].value_counts())\n",
    "\n",
    "# data_selector = DataSelector(test_df)\n",
    "# _ = test_df.progress_apply(data_selector.select, axis=1)\n",
    "\n",
    "# data_selector.df['is_selected'].value_counts()\n",
    "\n",
    "# select_df = data_selector.df\n",
    "\n",
    "# rs_row = select_df[select_df['is_non_zero_length']].sample(n=1)\n",
    "# rs_position = rs_row.position\n",
    "\n",
    "# largest_read_length = 0\n",
    "# for col in RL_COLS_REVERSED:\n",
    "#     if rs_row[col].values[0] > 0:\n",
    "#         largest_read_length = int(col.split('_')[1])\n",
    "#         break\n",
    "\n",
    "# largest_read_length\n",
    "\n",
    "# select_df = select_df.join(pd.get_dummies(select_df['letter']))\n",
    "\n",
    "# def select_df_sample(df, idx, window_len, select_cols):\n",
    "#     return df.loc[idx - window_len: idx + window_len][select_cols]"
   ]
  },
  {
   "cell_type": "markdown",
   "id": "7edf9d7f",
   "metadata": {},
   "source": [
    "Divide by total number of reads and multiply by 1M. Threshold = 5 reads per M"
   ]
  },
  {
   "cell_type": "markdown",
   "id": "5aea273d",
   "metadata": {},
   "source": [
    "Apply on full dataset"
   ]
  },
  {
   "cell_type": "code",
   "execution_count": 23,
   "id": "c042a753",
   "metadata": {},
   "outputs": [
    {
     "name": "stderr",
     "output_type": "stream",
     "text": [
      "100%|██████████| 4641652/4641652 [00:44<00:00, 105453.51it/s]\n"
     ]
    }
   ],
   "source": [
    "data_selector = DataSelector(df_reads, threshold=THRESHOLD_PER_M)\n",
    "_ = df_reads.progress_apply(data_selector.select, axis=1)"
   ]
  },
  {
   "cell_type": "code",
   "execution_count": 24,
   "id": "bc45f5a0",
   "metadata": {},
   "outputs": [],
   "source": [
    "df_select_full = data_selector.df\n",
    "df_select_full['is_selected'].value_counts()"
   ]
  },
  {
   "cell_type": "code",
   "execution_count": 27,
   "id": "c39efa0b",
   "metadata": {},
   "outputs": [],
   "source": [
    "df_select_full.to_csv(\"../data/final_selected_df_per_M.csv\")"
   ]
  },
  {
   "cell_type": "code",
   "execution_count": 28,
   "id": "28b0ce11",
   "metadata": {},
   "outputs": [],
   "source": [
    "def one_hot_encode(df, col, remove_og_col=False):\n",
    "    one_hot = pd.get_dummies(df[col])\n",
    "    df = df.join(one_hot)\n",
    "    \n",
    "    if remove_og_col:\n",
    "        df.drop([col], axis=1, inplace=True)\n",
    "    \n",
    "    return df\n",
    "\n",
    "df_select_full = one_hot_encode(df_select_full, 'letter')"
   ]
  },
  {
   "cell_type": "code",
   "execution_count": 33,
   "id": "b9b5acaf",
   "metadata": {},
   "outputs": [],
   "source": [
    "def select_and_flatten(df, idx, window_len, select_cols):\n",
    "    selected = df.loc[idx - window_len: idx + window_len][select_cols].values\n",
    "    flattened = selected.reshape(-1)\n",
    "    \n",
    "    return flattened\n",
    "\n",
    "selected_indices = df_select_full[df_select_full['is_selected']].index\n",
    "selected_data = np.array([select_and_flatten(df_select_full, idx, WINDOW_LEN, SELECT_COLS) for idx in selected_indices])"
   ]
  },
  {
   "cell_type": "code",
   "execution_count": 83,
   "id": "04a9ab77",
   "metadata": {},
   "outputs": [
    {
     "name": "stdout",
     "output_type": "stream",
     "text": [
      "651\n"
     ]
    }
   ],
   "source": [
    "def generate_colnames(window_len, select_cols):\n",
    "    \"\"\" Generates the names of the columns based on window length \"\"\"\n",
    "\n",
    "    locs = np.arange(-window_len, window_len + 1, 1)\n",
    "\n",
    "    colnames = []\n",
    "    for loc in locs:\n",
    "        for col in select_cols:\n",
    "            loc_str = str(loc) if loc < 0 else ('+' + str(loc))\n",
    "\n",
    "            colnames.append(col + loc_str)\n",
    "            \n",
    "    return colnames\n",
    "        \n",
    "colnames = generate_colnames(WINDOW_LEN, SELECT_COLS)\n",
    "print(len(colnames))"
   ]
  },
  {
   "cell_type": "code",
   "execution_count": 38,
   "id": "66a64615",
   "metadata": {},
   "outputs": [],
   "source": [
    "selected_data = pd.DataFrame(selected_data, columns=colnames)\n",
    "selected_data['position'] = selected_indices + 1"
   ]
  },
  {
   "cell_type": "code",
   "execution_count": 64,
   "id": "7b418f22",
   "metadata": {},
   "outputs": [],
   "source": [
    "df_merged = pd.merge(selected_data, df_start_sites, how='left', left_on='position', right_on='start_position')\n",
    "df_merged['start_position'] = df_merged['start_position'].apply(lambda x: pd.notnull(x))\n",
    "df_merged.rename({'start_position': 'is_start_position'}, axis=1, inplace=True)"
   ]
  },
  {
   "cell_type": "code",
   "execution_count": 72,
   "id": "256eb72f",
   "metadata": {},
   "outputs": [
    {
     "data": {
      "text/plain": [
       "False    113965\n",
       "True       1348\n",
       "Name: start_position, dtype: int64"
      ]
     },
     "execution_count": 72,
     "metadata": {},
     "output_type": "execute_result"
    }
   ],
   "source": [
    "df_merged['is_start_position'].value_counts()"
   ]
  },
  {
   "cell_type": "code",
   "execution_count": 79,
   "id": "15179876",
   "metadata": {},
   "outputs": [
    {
     "data": {
      "text/plain": [
       "False    0.98831\n",
       "True     0.01169\n",
       "Name: is_start_position, dtype: float64"
      ]
     },
     "execution_count": 79,
     "metadata": {},
     "output_type": "execute_result"
    }
   ],
   "source": [
    "df_merged['is_start_position'].value_counts(normalize=True)"
   ]
  },
  {
   "cell_type": "code",
   "execution_count": 75,
   "id": "1c6ff56f",
   "metadata": {},
   "outputs": [],
   "source": [
    "df_merged.to_csv(\"../data/final_ckpt_with_labels.csv\")"
   ]
  },
  {
   "cell_type": "code",
   "execution_count": 84,
   "id": "354a80f9",
   "metadata": {},
   "outputs": [],
   "source": [
    "# selected_data.to_csv(\"../data/final_ckpt_wo_labels.csv\")"
   ]
  }
 ],
 "metadata": {
  "kernelspec": {
   "display_name": "Python 3",
   "language": "python",
   "name": "python3"
  },
  "language_info": {
   "codemirror_mode": {
    "name": "ipython",
    "version": 3
   },
   "file_extension": ".py",
   "mimetype": "text/x-python",
   "name": "python",
   "nbconvert_exporter": "python",
   "pygments_lexer": "ipython3",
   "version": "3.8.8"
  }
 },
 "nbformat": 4,
 "nbformat_minor": 5
}
