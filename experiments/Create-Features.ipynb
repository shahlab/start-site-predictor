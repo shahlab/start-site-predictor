{
 "cells": [
  {
   "cell_type": "code",
   "execution_count": 30,
   "id": "6efcfcdf",
   "metadata": {},
   "outputs": [],
   "source": [
    "import time\n",
    "import numpy as np\n",
    "import pandas as pd\n",
    "\n",
    "from tqdm import tqdm\n",
    "tqdm.pandas()\n",
    "\n",
    "import seaborn as sns\n",
    "import matplotlib.pyplot as plt"
   ]
  },
  {
   "cell_type": "code",
   "execution_count": 31,
   "id": "12b7c9bf",
   "metadata": {},
   "outputs": [],
   "source": [
    "RL_COLS = ['rl_15', 'rl_16', 'rl_17', 'rl_18', 'rl_19',\n",
    "           'rl_20', 'rl_21', 'rl_22', 'rl_23', 'rl_24', \n",
    "           'rl_25', 'rl_26', 'rl_27', 'rl_28', 'rl_29', \n",
    "           'rl_30', 'rl_31']"
   ]
  },
  {
   "cell_type": "code",
   "execution_count": 32,
   "id": "706b751c",
   "metadata": {},
   "outputs": [
    {
     "data": {
      "text/plain": [
       "((2109, 2), (4641652, 19))"
      ]
     },
     "execution_count": 32,
     "metadata": {},
     "output_type": "execute_result"
    }
   ],
   "source": [
    "df_start_sites = pd.read_csv(\"../data/positive_strand_start_sites.tsv\", sep=\"\\t\")\n",
    "df_reads = pd.read_csv(\"../data/positive_strand_reads.tsv\", sep=\"\\t\")\n",
    "\n",
    "df_start_sites.shape, df_reads.shape"
   ]
  },
  {
   "cell_type": "code",
   "execution_count": 33,
   "id": "448b9b43",
   "metadata": {},
   "outputs": [
    {
     "name": "stderr",
     "output_type": "stream",
     "text": [
      "100%|██████████| 4641652/4641652 [02:44<00:00, 28146.46it/s]\n"
     ]
    }
   ],
   "source": [
    "def non_zero_read_lengths(row):\n",
    "    return any([row[col] for col in RL_COLS])\n",
    "\n",
    "df_reads['is_non_zero_length'] = df_reads.progress_apply(non_zero_read_lengths, axis=1)"
   ]
  },
  {
   "cell_type": "code",
   "execution_count": 34,
   "id": "518e809b",
   "metadata": {},
   "outputs": [
    {
     "data": {
      "text/plain": [
       "False    4544928\n",
       "True       96724\n",
       "Name: is_non_zero_length, dtype: int64"
      ]
     },
     "execution_count": 34,
     "metadata": {},
     "output_type": "execute_result"
    }
   ],
   "source": [
    "df_reads['is_non_zero_length'].value_counts()"
   ]
  },
  {
   "cell_type": "code",
   "execution_count": 9,
   "id": "393c3776",
   "metadata": {},
   "outputs": [
    {
     "data": {
      "text/plain": [
       "(96724, 20)"
      ]
     },
     "execution_count": 9,
     "metadata": {},
     "output_type": "execute_result"
    }
   ],
   "source": [
    "df_reads = df_reads[df_reads['is_non_zero_length']]\n",
    "\n",
    "df_reads.shape"
   ]
  },
  {
   "cell_type": "code",
   "execution_count": 39,
   "id": "d01b63f7",
   "metadata": {},
   "outputs": [],
   "source": [
    "class DataReducer:\n",
    "    \n",
    "    def __init__(self, df):\n",
    "        self.df = df\n",
    "        self.keep_set = set()\n",
    "\n",
    "    def reduce(self, row):\n",
    "        if not row['is_non_zero_length']:\n",
    "            return\n",
    "        \n",
    "        loc_range = set(range(row['position'] - 15, row['position'] + 15))\n",
    "        self.keep_set = self.keep_set.union(set(loc_range))\n",
    "        \n",
    "    def apply(self):\n",
    "        self.df['keep'] = False\n",
    "        \n",
    "        print(str(len(self.keep_set)) + \" elements in keep set.\")\n",
    "        \n",
    "        self.keep_set = list(self.keep_set)\n",
    "        \n",
    "        for i in tqdm(range(len(self.keep_set))):\n",
    "            self.df.loc[self.keep_set[i]-1, 'keep'] = True\n",
    "        \n",
    "        print(\"Done.\")\n",
    "        \n",
    "        return self.df"
   ]
  },
  {
   "cell_type": "code",
   "execution_count": 40,
   "id": "6c296939",
   "metadata": {},
   "outputs": [
    {
     "name": "stderr",
     "output_type": "stream",
     "text": [
      "100%|██████████| 4641652/4641652 [12:05<00:00, 6400.10it/s] \n"
     ]
    }
   ],
   "source": [
    "data_reducer = DataReducer(df_reads)\n",
    "_ = df_reads.progress_apply(data_reducer.reduce, axis=1)"
   ]
  },
  {
   "cell_type": "code",
   "execution_count": 45,
   "id": "b9a4ea8c",
   "metadata": {},
   "outputs": [
    {
     "name": "stdout",
     "output_type": "stream",
     "text": [
      "966012 elements in keep set.\n"
     ]
    }
   ],
   "source": [
    "df = data_reducer.df\n",
    "keep_set = data_reducer.keep_set\n",
    "\n",
    "print(str(len(keep_set)) + \" elements in keep set.\")"
   ]
  },
  {
   "cell_type": "code",
   "execution_count": 46,
   "id": "a70d2b60",
   "metadata": {},
   "outputs": [
    {
     "name": "stderr",
     "output_type": "stream",
     "text": [
      "100%|██████████| 966012/966012 [12:20<00:00, 1304.13it/s]\n"
     ]
    }
   ],
   "source": [
    "df['keep'] = False\n",
    "\n",
    "keep_set = list(keep_set)\n",
    "\n",
    "for i in tqdm(range(len(keep_set))):\n",
    "    df.loc[keep_set[i]-1, 'keep'] = True"
   ]
  },
  {
   "cell_type": "code",
   "execution_count": 47,
   "id": "0cbf72e5",
   "metadata": {},
   "outputs": [
    {
     "data": {
      "text/plain": [
       "(966012, 21)"
      ]
     },
     "execution_count": 47,
     "metadata": {},
     "output_type": "execute_result"
    }
   ],
   "source": [
    "df = df[df['keep']]\n",
    "df.shape"
   ]
  },
  {
   "cell_type": "code",
   "execution_count": 48,
   "id": "ab57114a",
   "metadata": {},
   "outputs": [
    {
     "data": {
      "text/html": [
       "<div>\n",
       "<style scoped>\n",
       "    .dataframe tbody tr th:only-of-type {\n",
       "        vertical-align: middle;\n",
       "    }\n",
       "\n",
       "    .dataframe tbody tr th {\n",
       "        vertical-align: top;\n",
       "    }\n",
       "\n",
       "    .dataframe thead th {\n",
       "        text-align: right;\n",
       "    }\n",
       "</style>\n",
       "<table border=\"1\" class=\"dataframe\">\n",
       "  <thead>\n",
       "    <tr style=\"text-align: right;\">\n",
       "      <th></th>\n",
       "      <th>position</th>\n",
       "      <th>letter</th>\n",
       "      <th>rl_15</th>\n",
       "      <th>rl_16</th>\n",
       "      <th>rl_17</th>\n",
       "      <th>rl_18</th>\n",
       "      <th>rl_19</th>\n",
       "      <th>rl_20</th>\n",
       "      <th>rl_21</th>\n",
       "      <th>rl_22</th>\n",
       "      <th>...</th>\n",
       "      <th>rl_24</th>\n",
       "      <th>rl_25</th>\n",
       "      <th>rl_26</th>\n",
       "      <th>rl_27</th>\n",
       "      <th>rl_28</th>\n",
       "      <th>rl_29</th>\n",
       "      <th>rl_30</th>\n",
       "      <th>rl_31</th>\n",
       "      <th>is_non_zero_length</th>\n",
       "      <th>keep</th>\n",
       "    </tr>\n",
       "  </thead>\n",
       "  <tbody>\n",
       "    <tr>\n",
       "      <th>20</th>\n",
       "      <td>21</td>\n",
       "      <td>A</td>\n",
       "      <td>0</td>\n",
       "      <td>0</td>\n",
       "      <td>0</td>\n",
       "      <td>0</td>\n",
       "      <td>0</td>\n",
       "      <td>0</td>\n",
       "      <td>0</td>\n",
       "      <td>0</td>\n",
       "      <td>...</td>\n",
       "      <td>0</td>\n",
       "      <td>0</td>\n",
       "      <td>0</td>\n",
       "      <td>0</td>\n",
       "      <td>0</td>\n",
       "      <td>0</td>\n",
       "      <td>0</td>\n",
       "      <td>0</td>\n",
       "      <td>False</td>\n",
       "      <td>True</td>\n",
       "    </tr>\n",
       "    <tr>\n",
       "      <th>21</th>\n",
       "      <td>22</td>\n",
       "      <td>C</td>\n",
       "      <td>0</td>\n",
       "      <td>0</td>\n",
       "      <td>0</td>\n",
       "      <td>0</td>\n",
       "      <td>0</td>\n",
       "      <td>0</td>\n",
       "      <td>0</td>\n",
       "      <td>0</td>\n",
       "      <td>...</td>\n",
       "      <td>0</td>\n",
       "      <td>0</td>\n",
       "      <td>0</td>\n",
       "      <td>0</td>\n",
       "      <td>0</td>\n",
       "      <td>0</td>\n",
       "      <td>0</td>\n",
       "      <td>0</td>\n",
       "      <td>False</td>\n",
       "      <td>True</td>\n",
       "    </tr>\n",
       "    <tr>\n",
       "      <th>22</th>\n",
       "      <td>23</td>\n",
       "      <td>G</td>\n",
       "      <td>0</td>\n",
       "      <td>0</td>\n",
       "      <td>0</td>\n",
       "      <td>0</td>\n",
       "      <td>0</td>\n",
       "      <td>0</td>\n",
       "      <td>0</td>\n",
       "      <td>0</td>\n",
       "      <td>...</td>\n",
       "      <td>0</td>\n",
       "      <td>0</td>\n",
       "      <td>0</td>\n",
       "      <td>0</td>\n",
       "      <td>0</td>\n",
       "      <td>0</td>\n",
       "      <td>0</td>\n",
       "      <td>0</td>\n",
       "      <td>False</td>\n",
       "      <td>True</td>\n",
       "    </tr>\n",
       "    <tr>\n",
       "      <th>23</th>\n",
       "      <td>24</td>\n",
       "      <td>G</td>\n",
       "      <td>0</td>\n",
       "      <td>0</td>\n",
       "      <td>0</td>\n",
       "      <td>0</td>\n",
       "      <td>0</td>\n",
       "      <td>0</td>\n",
       "      <td>0</td>\n",
       "      <td>0</td>\n",
       "      <td>...</td>\n",
       "      <td>0</td>\n",
       "      <td>0</td>\n",
       "      <td>0</td>\n",
       "      <td>0</td>\n",
       "      <td>0</td>\n",
       "      <td>0</td>\n",
       "      <td>0</td>\n",
       "      <td>0</td>\n",
       "      <td>False</td>\n",
       "      <td>True</td>\n",
       "    </tr>\n",
       "    <tr>\n",
       "      <th>24</th>\n",
       "      <td>25</td>\n",
       "      <td>G</td>\n",
       "      <td>0</td>\n",
       "      <td>0</td>\n",
       "      <td>0</td>\n",
       "      <td>0</td>\n",
       "      <td>0</td>\n",
       "      <td>0</td>\n",
       "      <td>0</td>\n",
       "      <td>0</td>\n",
       "      <td>...</td>\n",
       "      <td>0</td>\n",
       "      <td>0</td>\n",
       "      <td>0</td>\n",
       "      <td>0</td>\n",
       "      <td>0</td>\n",
       "      <td>0</td>\n",
       "      <td>0</td>\n",
       "      <td>0</td>\n",
       "      <td>False</td>\n",
       "      <td>True</td>\n",
       "    </tr>\n",
       "    <tr>\n",
       "      <th>...</th>\n",
       "      <td>...</td>\n",
       "      <td>...</td>\n",
       "      <td>...</td>\n",
       "      <td>...</td>\n",
       "      <td>...</td>\n",
       "      <td>...</td>\n",
       "      <td>...</td>\n",
       "      <td>...</td>\n",
       "      <td>...</td>\n",
       "      <td>...</td>\n",
       "      <td>...</td>\n",
       "      <td>...</td>\n",
       "      <td>...</td>\n",
       "      <td>...</td>\n",
       "      <td>...</td>\n",
       "      <td>...</td>\n",
       "      <td>...</td>\n",
       "      <td>...</td>\n",
       "      <td>...</td>\n",
       "      <td>...</td>\n",
       "      <td>...</td>\n",
       "    </tr>\n",
       "    <tr>\n",
       "      <th>4641588</th>\n",
       "      <td>4641589</td>\n",
       "      <td>C</td>\n",
       "      <td>0</td>\n",
       "      <td>0</td>\n",
       "      <td>0</td>\n",
       "      <td>0</td>\n",
       "      <td>0</td>\n",
       "      <td>0</td>\n",
       "      <td>0</td>\n",
       "      <td>0</td>\n",
       "      <td>...</td>\n",
       "      <td>0</td>\n",
       "      <td>0</td>\n",
       "      <td>0</td>\n",
       "      <td>0</td>\n",
       "      <td>0</td>\n",
       "      <td>0</td>\n",
       "      <td>0</td>\n",
       "      <td>0</td>\n",
       "      <td>False</td>\n",
       "      <td>True</td>\n",
       "    </tr>\n",
       "    <tr>\n",
       "      <th>4641589</th>\n",
       "      <td>4641590</td>\n",
       "      <td>C</td>\n",
       "      <td>0</td>\n",
       "      <td>0</td>\n",
       "      <td>0</td>\n",
       "      <td>0</td>\n",
       "      <td>0</td>\n",
       "      <td>0</td>\n",
       "      <td>0</td>\n",
       "      <td>0</td>\n",
       "      <td>...</td>\n",
       "      <td>0</td>\n",
       "      <td>0</td>\n",
       "      <td>0</td>\n",
       "      <td>0</td>\n",
       "      <td>0</td>\n",
       "      <td>0</td>\n",
       "      <td>0</td>\n",
       "      <td>0</td>\n",
       "      <td>False</td>\n",
       "      <td>True</td>\n",
       "    </tr>\n",
       "    <tr>\n",
       "      <th>4641590</th>\n",
       "      <td>4641591</td>\n",
       "      <td>G</td>\n",
       "      <td>0</td>\n",
       "      <td>0</td>\n",
       "      <td>0</td>\n",
       "      <td>0</td>\n",
       "      <td>0</td>\n",
       "      <td>0</td>\n",
       "      <td>0</td>\n",
       "      <td>0</td>\n",
       "      <td>...</td>\n",
       "      <td>0</td>\n",
       "      <td>0</td>\n",
       "      <td>0</td>\n",
       "      <td>0</td>\n",
       "      <td>0</td>\n",
       "      <td>0</td>\n",
       "      <td>0</td>\n",
       "      <td>0</td>\n",
       "      <td>False</td>\n",
       "      <td>True</td>\n",
       "    </tr>\n",
       "    <tr>\n",
       "      <th>4641591</th>\n",
       "      <td>4641592</td>\n",
       "      <td>T</td>\n",
       "      <td>0</td>\n",
       "      <td>0</td>\n",
       "      <td>0</td>\n",
       "      <td>0</td>\n",
       "      <td>0</td>\n",
       "      <td>0</td>\n",
       "      <td>0</td>\n",
       "      <td>0</td>\n",
       "      <td>...</td>\n",
       "      <td>0</td>\n",
       "      <td>0</td>\n",
       "      <td>0</td>\n",
       "      <td>0</td>\n",
       "      <td>0</td>\n",
       "      <td>0</td>\n",
       "      <td>0</td>\n",
       "      <td>0</td>\n",
       "      <td>False</td>\n",
       "      <td>True</td>\n",
       "    </tr>\n",
       "    <tr>\n",
       "      <th>4641592</th>\n",
       "      <td>4641593</td>\n",
       "      <td>T</td>\n",
       "      <td>0</td>\n",
       "      <td>0</td>\n",
       "      <td>0</td>\n",
       "      <td>0</td>\n",
       "      <td>0</td>\n",
       "      <td>0</td>\n",
       "      <td>0</td>\n",
       "      <td>0</td>\n",
       "      <td>...</td>\n",
       "      <td>0</td>\n",
       "      <td>0</td>\n",
       "      <td>0</td>\n",
       "      <td>0</td>\n",
       "      <td>0</td>\n",
       "      <td>0</td>\n",
       "      <td>0</td>\n",
       "      <td>0</td>\n",
       "      <td>False</td>\n",
       "      <td>True</td>\n",
       "    </tr>\n",
       "  </tbody>\n",
       "</table>\n",
       "<p>966012 rows × 21 columns</p>\n",
       "</div>"
      ],
      "text/plain": [
       "         position letter  rl_15  rl_16  rl_17  rl_18  rl_19  rl_20  rl_21  \\\n",
       "20             21      A      0      0      0      0      0      0      0   \n",
       "21             22      C      0      0      0      0      0      0      0   \n",
       "22             23      G      0      0      0      0      0      0      0   \n",
       "23             24      G      0      0      0      0      0      0      0   \n",
       "24             25      G      0      0      0      0      0      0      0   \n",
       "...           ...    ...    ...    ...    ...    ...    ...    ...    ...   \n",
       "4641588   4641589      C      0      0      0      0      0      0      0   \n",
       "4641589   4641590      C      0      0      0      0      0      0      0   \n",
       "4641590   4641591      G      0      0      0      0      0      0      0   \n",
       "4641591   4641592      T      0      0      0      0      0      0      0   \n",
       "4641592   4641593      T      0      0      0      0      0      0      0   \n",
       "\n",
       "         rl_22  ...  rl_24  rl_25  rl_26  rl_27  rl_28  rl_29  rl_30  rl_31  \\\n",
       "20           0  ...      0      0      0      0      0      0      0      0   \n",
       "21           0  ...      0      0      0      0      0      0      0      0   \n",
       "22           0  ...      0      0      0      0      0      0      0      0   \n",
       "23           0  ...      0      0      0      0      0      0      0      0   \n",
       "24           0  ...      0      0      0      0      0      0      0      0   \n",
       "...        ...  ...    ...    ...    ...    ...    ...    ...    ...    ...   \n",
       "4641588      0  ...      0      0      0      0      0      0      0      0   \n",
       "4641589      0  ...      0      0      0      0      0      0      0      0   \n",
       "4641590      0  ...      0      0      0      0      0      0      0      0   \n",
       "4641591      0  ...      0      0      0      0      0      0      0      0   \n",
       "4641592      0  ...      0      0      0      0      0      0      0      0   \n",
       "\n",
       "         is_non_zero_length  keep  \n",
       "20                    False  True  \n",
       "21                    False  True  \n",
       "22                    False  True  \n",
       "23                    False  True  \n",
       "24                    False  True  \n",
       "...                     ...   ...  \n",
       "4641588               False  True  \n",
       "4641589               False  True  \n",
       "4641590               False  True  \n",
       "4641591               False  True  \n",
       "4641592               False  True  \n",
       "\n",
       "[966012 rows x 21 columns]"
      ]
     },
     "execution_count": 48,
     "metadata": {},
     "output_type": "execute_result"
    }
   ],
   "source": [
    "df"
   ]
  },
  {
   "cell_type": "code",
   "execution_count": 49,
   "id": "11562fd3",
   "metadata": {},
   "outputs": [
    {
     "name": "stderr",
     "output_type": "stream",
     "text": [
      "100%|██████████| 966012/966012 [00:34<00:00, 27695.00it/s]\n",
      "<ipython-input-49-c0401a25f954>:4: SettingWithCopyWarning: \n",
      "A value is trying to be set on a copy of a slice from a DataFrame.\n",
      "Try using .loc[row_indexer,col_indexer] = value instead\n",
      "\n",
      "See the caveats in the documentation: https://pandas.pydata.org/pandas-docs/stable/user_guide/indexing.html#returning-a-view-versus-a-copy\n",
      "  df['num_reads'] = df.progress_apply(calc_num_reads_at_pos, axis=1)\n"
     ]
    }
   ],
   "source": [
    "def calc_num_reads_at_pos(row):\n",
    "    return sum([row[col] for col in RL_COLS])\n",
    "\n",
    "df['num_reads'] = df.progress_apply(calc_num_reads_at_pos, axis=1)"
   ]
  },
  {
   "cell_type": "code",
   "execution_count": 57,
   "id": "9c772876",
   "metadata": {},
   "outputs": [
    {
     "data": {
      "text/plain": [
       "0.883357041251778"
      ]
     },
     "execution_count": 57,
     "metadata": {},
     "output_type": "execute_result"
    }
   ],
   "source": [
    "sum([1 if x in df['position'] else 0 for x in df_start_sites['start_position'].values])/df_start_sites.shape[0]"
   ]
  },
  {
   "cell_type": "code",
   "execution_count": null,
   "id": "c810b241",
   "metadata": {},
   "outputs": [],
   "source": [
    "df.to_csv(\"../data/keep\")"
   ]
  }
 ],
 "metadata": {
  "kernelspec": {
   "display_name": "Python 3",
   "language": "python",
   "name": "python3"
  },
  "language_info": {
   "codemirror_mode": {
    "name": "ipython",
    "version": 3
   },
   "file_extension": ".py",
   "mimetype": "text/x-python",
   "name": "python",
   "nbconvert_exporter": "python",
   "pygments_lexer": "ipython3",
   "version": "3.8.8"
  }
 },
 "nbformat": 4,
 "nbformat_minor": 5
}
