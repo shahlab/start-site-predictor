{
 "cells": [
  {
   "cell_type": "code",
   "execution_count": 107,
   "id": "9fc4b014",
   "metadata": {},
   "outputs": [],
   "source": [
    "import os\n",
    "import pickle\n",
    "import numpy as np\n",
    "import pandas as pd\n",
    "import seaborn as sns\n",
    "\n",
    "from scipy import stats\n",
    "from collections import Counter, defaultdict"
   ]
  },
  {
   "cell_type": "code",
   "execution_count": 2,
   "id": "5abc2bab",
   "metadata": {},
   "outputs": [],
   "source": [
    "with open('../data/preds.csv', 'r') as f:\n",
    "    lines = f.readlines()\n",
    "    \n",
    "if os.path.exists(\"../data/dataset.pkl\"):\n",
    "    with open(\"../data/dataset.pkl\", \"rb\") as f:\n",
    "        data = pickle.load(f)\n",
    "    \n",
    "raw_data = pd.read_csv(\"../data/final_ckpt_with_labels.csv\")"
   ]
  },
  {
   "cell_type": "markdown",
   "id": "ae142cbc",
   "metadata": {},
   "source": [
    "Transform predictions DataFrame"
   ]
  },
  {
   "cell_type": "code",
   "execution_count": 14,
   "id": "8dd8bb53",
   "metadata": {},
   "outputs": [],
   "source": [
    "lines = [x.strip().split(',') for x in lines]\n",
    "\n",
    "epoch = -1\n",
    "epoch_wise_results = defaultdict(str)\n",
    "\n",
    "for i in range(len(lines)):\n",
    "    if lines[i][0] == '2000':\n",
    "        epoch += 1\n",
    "    \n",
    "    epoch_wise_results[epoch] += ',' + ','.join(lines[i][1:])\n",
    "    \n",
    "final_epoch_results = np.array([float(x) for x in epoch_wise_results[99].split(',')[1:]])"
   ]
  },
  {
   "cell_type": "code",
   "execution_count": null,
   "id": "5c64c277",
   "metadata": {},
   "outputs": [],
   "source": [
    "X_test = data[\"X_test\"]\n",
    "y_test = data[\"y_test\"]\n",
    "fake_pos = data[\"fake_pos\"]\n",
    "gene = data[\"gene\"]\n",
    "test_meta = data[\"test_meta\"]"
   ]
  },
  {
   "cell_type": "code",
   "execution_count": 16,
   "id": "3c2666df",
   "metadata": {},
   "outputs": [],
   "source": [
    "pos_predictions = set(np.where(final_epoch_results == 1.)[0])\n",
    "fake_positives = set(np.where(y_test == 1.)[0])\n",
    "\n",
    "len(fake_positives.intersection(pos_predictions))"
   ]
  },
  {
   "cell_type": "code",
   "execution_count": 29,
   "id": "36245062",
   "metadata": {},
   "outputs": [
    {
     "data": {
      "text/plain": [
       "{9570,\n",
       " 14694,\n",
       " 17262,\n",
       " 25799,\n",
       " 30215,\n",
       " 33861,\n",
       " 35904,\n",
       " 36220,\n",
       " 46274,\n",
       " 52394,\n",
       " 59500,\n",
       " 59562,\n",
       " 69617,\n",
       " 70408,\n",
       " 72268,\n",
       " 77881,\n",
       " 91801,\n",
       " 94754,\n",
       " 100152,\n",
       " 106190,\n",
       " 108959,\n",
       " 111552}"
      ]
     },
     "execution_count": 29,
     "metadata": {},
     "output_type": "execute_result"
    }
   ],
   "source": [
    "# List of masked positives not detected by the model\n",
    "fake_positives - pos_predictions"
   ]
  },
  {
   "cell_type": "markdown",
   "id": "19bcefb1",
   "metadata": {},
   "source": [
    "**Analysis of Masked Positives Not Detected**"
   ]
  },
  {
   "cell_type": "code",
   "execution_count": 46,
   "id": "3b567cdb",
   "metadata": {},
   "outputs": [],
   "source": [
    "indices = [str(x) if x < 0 else '+' + str(x) for x in np.arange(-15, 16)]\n",
    "\n",
    "cols_for_idx = {}\n",
    "\n",
    "for idx in indices:\n",
    "    cols_for_idx['total_rl' + idx] = [x for x in raw_data.columns if x.startswith('rl') and x.endswith(idx)]"
   ]
  },
  {
   "cell_type": "code",
   "execution_count": 54,
   "id": "19d29810",
   "metadata": {},
   "outputs": [],
   "source": [
    "# Total reads at each position near the start site (-15, -14, ..., +14, +15)\n",
    "for k, v in cols_for_idx.items():\n",
    "    raw_data[k] = raw_data[v].sum(axis=1)\n",
    "    \n",
    "# Total reads in the neighborhood\n",
    "raw_data['total_reads'] = raw_data[cols_for_idx.keys()].sum(axis=1)"
   ]
  },
  {
   "cell_type": "code",
   "execution_count": 95,
   "id": "29be0dff",
   "metadata": {},
   "outputs": [],
   "source": [
    "# Masked positives not detected\n",
    "fake_pos_not_detected = test_meta.iloc[list(fake_positives - pos_predictions)][['position', 'gene']]\n",
    "df_fpn = raw_data[raw_data['position'].isin(fake_pos_not_detected['position'].values)]\n",
    "\n",
    "# Masked positives detected\n",
    "fake_pos_detected = test_meta.iloc[list(pos_predictions.intersection(fake_positives))][['position', 'gene']]\n",
    "df_fpd = raw_data[raw_data['position'].isin(fake_pos_detected['position'].values)]\n",
    "\n",
    "# All positive predictions of the model\n",
    "pos_preds = test_meta.iloc[list(pos_predictions)][['position', 'gene']]\n",
    "df_pp = raw_data[raw_data['position'].isin(pos_preds['position'].values)]"
   ]
  },
  {
   "cell_type": "code",
   "execution_count": 137,
   "id": "4307c4c9",
   "metadata": {},
   "outputs": [
    {
     "data": {
      "text/plain": [
       "(78, 22)"
      ]
     },
     "execution_count": 137,
     "metadata": {},
     "output_type": "execute_result"
    }
   ],
   "source": [
    "df_fpd.shape[0], df_fpn.shape[0]"
   ]
  },
  {
   "cell_type": "code",
   "execution_count": 147,
   "id": "374e770e",
   "metadata": {},
   "outputs": [
    {
     "data": {
      "image/png": "[encoded data removed]",
      "text/plain": [
       "<Figure size 432x288 with 1 Axes>"
      ]
     },
     "metadata": {},
     "output_type": "display_data"
    }
   ],
   "source": [
    "sns.histplot(np.log10(df_fpd['total_reads']), bins=30)\n",
    "plt.title('Total Read Distribution - Masked Positives Detected')\n",
    "plt.xlabel('Log10 of total reads in neighborhood -15 to +15')\n",
    "plt.xlim(0, 6)\n",
    "plt.show()"
   ]
  },
  {
   "cell_type": "code",
   "execution_count": 148,
   "id": "4c5674c7",
   "metadata": {},
   "outputs": [
    {
     "data": {
      "image/png": "[encoded data removed]",
      "text/plain": [
       "<Figure size 432x288 with 1 Axes>"
      ]
     },
     "metadata": {},
     "output_type": "display_data"
    }
   ],
   "source": [
    "sns.histplot(np.log10(df_fpn['total_reads']), bins=30)\n",
    "plt.title('Total Read Distribution - Masked Positives Not Detected')\n",
    "plt.xlabel('Log10 of total reads in neighborhood -15 to +15')\n",
    "plt.xlim(0, 6)\n",
    "plt.show()"
   ]
  },
  {
   "cell_type": "markdown",
   "id": "5ebbe376",
   "metadata": {},
   "source": [
    "**T-Test**\n",
    "\n",
    "$H_0: \\mu_x = \\mu_y$ \\\n",
    "$H_1: \\mu_x \\ne \\mu_y$"
   ]
  },
  {
   "cell_type": "code",
   "execution_count": 138,
   "id": "f424ba95",
   "metadata": {},
   "outputs": [],
   "source": [
    "def welch_ttest(x, y): \n",
    "    ## Welch-Satterthwaite Degrees of Freedom ##\n",
    "    dof = (x.var()/x.size + y.var()/y.size)**2 / ((x.var()/x.size)**2 / (x.size-1) + (y.var()/y.size)**2 / (y.size-1))\n",
    "   \n",
    "    t, p = stats.ttest_ind(x, y, equal_var = False)\n",
    "    \n",
    "    print(\"Welch's t-test =>\\n\",\n",
    "          f\"Score = {t:.4f}\", \"\\n\",\n",
    "          f\"p-value = {p:.4f}\", \"\\n\",\n",
    "          f\"Welch-Satterthwaite Degrees of Freedom = {dof:.4f}\")"
   ]
  },
  {
   "cell_type": "code",
   "execution_count": 139,
   "id": "dcb9866f",
   "metadata": {},
   "outputs": [
    {
     "name": "stdout",
     "output_type": "stream",
     "text": [
      "Welch's t-test =>\n",
      " Score = 0.0865 \n",
      " p-value = 0.9313 \n",
      " Welch-Satterthwaite Degrees of Freedom = 59.3030\n"
     ]
    }
   ],
   "source": [
    "welch_ttest(df_fpd['total_reads'], df_fpn['total_reads'])"
   ]
  },
  {
   "cell_type": "code",
   "execution_count": 140,
   "id": "bef180f3",
   "metadata": {},
   "outputs": [
    {
     "name": "stdout",
     "output_type": "stream",
     "text": [
      "Welch's t-test =>\n",
      " Score = -1.6654 \n",
      " p-value = 0.1092 \n",
      " Welch-Satterthwaite Degrees of Freedom = 23.2661\n"
     ]
    }
   ],
   "source": [
    "welch_ttest(df_fpd['total_rl+0'], df_fpn['total_rl+0'])"
   ]
  },
  {
   "cell_type": "markdown",
   "id": "810e01df",
   "metadata": {},
   "source": [
    "**Save results to CSV**"
   ]
  },
  {
   "cell_type": "code",
   "execution_count": 24,
   "id": "9019d3d1",
   "metadata": {},
   "outputs": [],
   "source": [
    "print(\"Saving potential start sites to a CSV file.\\n\")\n",
    "positive_predicted = test_meta.iloc[list(pos_predictions)][['position', 'gene']]\n",
    "print(\"Total number of masked start sites detected =\", positive_predicted['gene'].notnull().sum()) # Should be < 100\n",
    "print(\"Total number of masked start sites =\", test_meta['gene'].notnull().sum()) # Should be 100\n",
    "\n",
    "print(\"Saving to csv...\", end='')\n",
    "positive_predicted.to_csv(\"../data/positive_predicted_9lp_1.csv\")\n",
    "print(\"Done.\")"
   ]
  },
  {
   "cell_type": "code",
   "execution_count": 119,
   "id": "0373a499",
   "metadata": {},
   "outputs": [
    {
     "data": {
      "text/html": [
       "<div>\n",
       "<style scoped>\n",
       "    .dataframe tbody tr th:only-of-type {\n",
       "        vertical-align: middle;\n",
       "    }\n",
       "\n",
       "    .dataframe tbody tr th {\n",
       "        vertical-align: top;\n",
       "    }\n",
       "\n",
       "    .dataframe thead th {\n",
       "        text-align: right;\n",
       "    }\n",
       "</style>\n",
       "<table border=\"1\" class=\"dataframe\">\n",
       "  <thead>\n",
       "    <tr style=\"text-align: right;\">\n",
       "      <th></th>\n",
       "      <th>position</th>\n",
       "      <th>gene</th>\n",
       "    </tr>\n",
       "  </thead>\n",
       "  <tbody>\n",
       "    <tr>\n",
       "      <th>33112</th>\n",
       "      <td>1131013</td>\n",
       "      <td>NaN</td>\n",
       "    </tr>\n",
       "    <tr>\n",
       "      <th>33116</th>\n",
       "      <td>1131017</td>\n",
       "      <td>NaN</td>\n",
       "    </tr>\n",
       "    <tr>\n",
       "      <th>41387</th>\n",
       "      <td>1335831</td>\n",
       "      <td>b1276</td>\n",
       "    </tr>\n",
       "    <tr>\n",
       "      <th>91160</th>\n",
       "      <td>3950305</td>\n",
       "      <td>NaN</td>\n",
       "    </tr>\n",
       "    <tr>\n",
       "      <th>16557</th>\n",
       "      <td>461362</td>\n",
       "      <td>NaN</td>\n",
       "    </tr>\n",
       "    <tr>\n",
       "      <th>...</th>\n",
       "      <td>...</td>\n",
       "      <td>...</td>\n",
       "    </tr>\n",
       "    <tr>\n",
       "      <th>74536</th>\n",
       "      <td>3104430</td>\n",
       "      <td>NaN</td>\n",
       "    </tr>\n",
       "    <tr>\n",
       "      <th>99395</th>\n",
       "      <td>4173097</td>\n",
       "      <td>NaN</td>\n",
       "    </tr>\n",
       "    <tr>\n",
       "      <th>57960</th>\n",
       "      <td>2105323</td>\n",
       "      <td>NaN</td>\n",
       "    </tr>\n",
       "    <tr>\n",
       "      <th>16530</th>\n",
       "      <td>458889</td>\n",
       "      <td>NaN</td>\n",
       "    </tr>\n",
       "    <tr>\n",
       "      <th>8262</th>\n",
       "      <td>200496</td>\n",
       "      <td>NaN</td>\n",
       "    </tr>\n",
       "  </tbody>\n",
       "</table>\n",
       "<p>2004 rows × 2 columns</p>\n",
       "</div>"
      ],
      "text/plain": [
       "       position   gene\n",
       "33112   1131013    NaN\n",
       "33116   1131017    NaN\n",
       "41387   1335831  b1276\n",
       "91160   3950305    NaN\n",
       "16557    461362    NaN\n",
       "...         ...    ...\n",
       "74536   3104430    NaN\n",
       "99395   4173097    NaN\n",
       "57960   2105323    NaN\n",
       "16530    458889    NaN\n",
       "8262     200496    NaN\n",
       "\n",
       "[2004 rows x 2 columns]"
      ]
     },
     "execution_count": 119,
     "metadata": {},
     "output_type": "execute_result"
    }
   ],
   "source": [
    "positive_predicted"
   ]
  }
 ],
 "metadata": {
  "kernelspec": {
   "display_name": "Python 3",
   "language": "python",
   "name": "python3"
  },
  "language_info": {
   "codemirror_mode": {
    "name": "ipython",
    "version": 3
   },
   "file_extension": ".py",
   "mimetype": "text/x-python",
   "name": "python",
   "nbconvert_exporter": "python",
   "pygments_lexer": "ipython3",
   "version": "3.8.8"
  }
 },
 "nbformat": 4,
 "nbformat_minor": 5
}
