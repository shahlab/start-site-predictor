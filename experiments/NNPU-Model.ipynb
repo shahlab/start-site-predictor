{
 "cells": [
  {
   "cell_type": "code",
   "execution_count": 1,
   "id": "30f2ba4b",
   "metadata": {},
   "outputs": [],
   "source": [
    "import numpy as np\n",
    "import urllib.request\n",
    "import os\n",
    "import tarfile\n",
    "import pickle\n",
    "from sklearn.datasets import fetch_openml"
   ]
  },
  {
   "cell_type": "code",
   "execution_count": 2,
   "id": "71213966",
   "metadata": {},
   "outputs": [],
   "source": [
    "def get_mnist():\n",
    "    mnist = fetch_openml('mnist_784', data_home=\".\")\n",
    "\n",
    "    x = mnist.data\n",
    "    y = mnist.target\n",
    "    # reshape to (#data, #channel, width, height)\n",
    "    x = np.reshape(x, (x.shape[0], 1, 28, 28)) / 255.\n",
    "    x_tr = np.asarray(x[:60000], dtype=np.float32)\n",
    "    y_tr = np.asarray(y[:60000], dtype=np.int32)\n",
    "    x_te = np.asarray(x[60000:], dtype=np.float32)\n",
    "    y_te = np.asarray(y[60000:], dtype=np.int32)\n",
    "    return (x_tr, y_tr), (x_te, y_te)"
   ]
  },
  {
   "cell_type": "code",
   "execution_count": 3,
   "id": "cfa48928",
   "metadata": {},
   "outputs": [],
   "source": [
    "mnist = fetch_openml('mnist_784', data_home=\".\")\n",
    "\n",
    "x = mnist.data\n",
    "y = mnist.target"
   ]
  },
  {
   "cell_type": "code",
   "execution_count": 4,
   "id": "7fb3666a",
   "metadata": {},
   "outputs": [
    {
     "data": {
      "text/plain": [
       "(70000, 784)"
      ]
     },
     "execution_count": 4,
     "metadata": {},
     "output_type": "execute_result"
    }
   ],
   "source": [
    "x.shape"
   ]
  },
  {
   "cell_type": "code",
   "execution_count": 5,
   "id": "5265d0f9",
   "metadata": {},
   "outputs": [
    {
     "data": {
      "text/plain": [
       "(70000, 784)"
      ]
     },
     "execution_count": 5,
     "metadata": {},
     "output_type": "execute_result"
    }
   ],
   "source": [
    "x.shape"
   ]
  },
  {
   "cell_type": "code",
   "execution_count": 6,
   "id": "4d964584",
   "metadata": {},
   "outputs": [],
   "source": [
    "x = x/255."
   ]
  },
  {
   "cell_type": "code",
   "execution_count": 7,
   "id": "087f1657",
   "metadata": {},
   "outputs": [],
   "source": [
    "x_tr = np.asarray(x[:60000], dtype=np.float32)\n",
    "y_tr = np.asarray(y[:60000], dtype=np.int32)\n",
    "x_te = np.asarray(x[60000:], dtype=np.float32)\n",
    "y_te = np.asarray(y[60000:], dtype=np.int32)"
   ]
  },
  {
   "cell_type": "code",
   "execution_count": 8,
   "id": "23a50f5d",
   "metadata": {},
   "outputs": [
    {
     "data": {
      "text/plain": [
       "((60000, 784), (60000,), (10000, 784), (10000,))"
      ]
     },
     "execution_count": 8,
     "metadata": {},
     "output_type": "execute_result"
    }
   ],
   "source": [
    "x_tr.shape, y_tr.shape, x_te.shape, y_te.shape"
   ]
  },
  {
   "cell_type": "code",
   "execution_count": 9,
   "id": "c0fd0bba",
   "metadata": {},
   "outputs": [],
   "source": [
    "def binarize_mnist_class(y_train, y_test):\n",
    "    y_train_bin = np.ones(len(y_train), dtype=np.int32)\n",
    "    y_train_bin[y_train % 2 == 1] = -1\n",
    "    y_test_bin = np.ones(len(y_test), dtype=np.int32)\n",
    "    y_test_bin[y_test % 2 == 1] = -1\n",
    "    return y_train_bin, y_test_bin"
   ]
  },
  {
   "cell_type": "code",
   "execution_count": 10,
   "id": "6366f5ae",
   "metadata": {},
   "outputs": [],
   "source": [
    "y_train, y_test = binarize_mnist_class(y_tr, y_te)"
   ]
  },
  {
   "cell_type": "code",
   "execution_count": 11,
   "id": "f4dfc2e5",
   "metadata": {},
   "outputs": [],
   "source": [
    "x_train, x_test = x_tr.copy(), x_te.copy()"
   ]
  },
  {
   "cell_type": "code",
   "execution_count": 73,
   "id": "bed8a01f",
   "metadata": {},
   "outputs": [
    {
     "data": {
      "text/plain": [
       "(array([[0., 0., 0., ..., 0., 0., 0.],\n",
       "        [0., 0., 0., ..., 0., 0., 0.],\n",
       "        [0., 0., 0., ..., 0., 0., 0.],\n",
       "        ...,\n",
       "        [0., 0., 0., ..., 0., 0., 0.],\n",
       "        [0., 0., 0., ..., 0., 0., 0.],\n",
       "        [0., 0., 0., ..., 0., 0., 0.]], dtype=float32),\n",
       " array([[0., 0., 0., ..., 0., 0., 0.],\n",
       "        [0., 0., 0., ..., 0., 0., 0.],\n",
       "        [0., 0., 0., ..., 0., 0., 0.],\n",
       "        ...,\n",
       "        [0., 0., 0., ..., 0., 0., 0.],\n",
       "        [0., 0., 0., ..., 0., 0., 0.],\n",
       "        [0., 0., 0., ..., 0., 0., 0.]], dtype=float32))"
      ]
     },
     "execution_count": 73,
     "metadata": {},
     "output_type": "execute_result"
    }
   ],
   "source": [
    "x_train, x_test"
   ]
  },
  {
   "cell_type": "code",
   "execution_count": 74,
   "id": "5eed8ffb",
   "metadata": {},
   "outputs": [
    {
     "data": {
      "text/plain": [
       "(array([-1,  1,  1, ..., -1,  1,  1], dtype=int32),\n",
       " array([-1,  1, -1, ...,  1, -1,  1], dtype=int32))"
      ]
     },
     "execution_count": 74,
     "metadata": {},
     "output_type": "execute_result"
    }
   ],
   "source": [
    "y_train, y_test"
   ]
  },
  {
   "cell_type": "code",
   "execution_count": 12,
   "id": "d201a547",
   "metadata": {},
   "outputs": [
    {
     "data": {
      "text/plain": [
       "array([0, 1, 2, 3, 4, 5, 6, 7, 8, 9], dtype=int32)"
      ]
     },
     "execution_count": 12,
     "metadata": {},
     "output_type": "execute_result"
    }
   ],
   "source": [
    "np.unique(y_tr)"
   ]
  },
  {
   "cell_type": "code",
   "execution_count": 13,
   "id": "cc8ce42d",
   "metadata": {},
   "outputs": [
    {
     "data": {
      "text/plain": [
       "(array([-1,  1], dtype=int32), array([30508, 29492]))"
      ]
     },
     "execution_count": 13,
     "metadata": {},
     "output_type": "execute_result"
    }
   ],
   "source": [
    "np.unique(y_train, return_counts=True)"
   ]
  },
  {
   "cell_type": "code",
   "execution_count": 14,
   "id": "26ead0d5",
   "metadata": {},
   "outputs": [],
   "source": [
    "x = x_train.copy()\n",
    "y = y_train.copy()"
   ]
  },
  {
   "cell_type": "code",
   "execution_count": 15,
   "id": "92fdf47e",
   "metadata": {},
   "outputs": [
    {
     "data": {
      "text/plain": [
       "array([-1,  1], dtype=int32)"
      ]
     },
     "execution_count": 15,
     "metadata": {},
     "output_type": "execute_result"
    }
   ],
   "source": [
    "labels = np.unique(y)\n",
    "labels"
   ]
  },
  {
   "cell_type": "code",
   "execution_count": 16,
   "id": "1ac631f6",
   "metadata": {},
   "outputs": [],
   "source": [
    "positive, negative = labels[1], labels[0]"
   ]
  },
  {
   "cell_type": "code",
   "execution_count": 17,
   "id": "cdb38d3c",
   "metadata": {},
   "outputs": [
    {
     "data": {
      "text/plain": [
       "(1, -1)"
      ]
     },
     "execution_count": 17,
     "metadata": {},
     "output_type": "execute_result"
    }
   ],
   "source": [
    "positive, negative"
   ]
  },
  {
   "cell_type": "code",
   "execution_count": 18,
   "id": "83f010ee",
   "metadata": {},
   "outputs": [],
   "source": [
    "x, y = np.asarray(x, dtype=np.float32), np.asarray(y, dtype=np.int32)\n",
    "assert(len(x) == len(y))"
   ]
  },
  {
   "cell_type": "code",
   "execution_count": 19,
   "id": "37c5c5d1",
   "metadata": {},
   "outputs": [
    {
     "data": {
      "text/plain": [
       "((60000, 784), (60000,))"
      ]
     },
     "execution_count": 19,
     "metadata": {},
     "output_type": "execute_result"
    }
   ],
   "source": [
    "x.shape, y.shape"
   ]
  },
  {
   "cell_type": "code",
   "execution_count": 20,
   "id": "944c1735",
   "metadata": {},
   "outputs": [],
   "source": [
    "# Random permutation of np.arange(len(y))\n",
    "perm = np.random.permutation(len(y))\n",
    "\n",
    "# Randomly shuffle x and y\n",
    "x, y = x[perm], y[perm]"
   ]
  },
  {
   "cell_type": "code",
   "execution_count": 21,
   "id": "c09b4e50",
   "metadata": {},
   "outputs": [
    {
     "data": {
      "text/plain": [
       "(29492, 30508)"
      ]
     },
     "execution_count": 21,
     "metadata": {},
     "output_type": "execute_result"
    }
   ],
   "source": [
    "n_p = (y == positive).sum()\n",
    "n_n = (y == negative).sum()\n",
    "\n",
    "n_p, n_n"
   ]
  },
  {
   "cell_type": "code",
   "execution_count": 22,
   "id": "0a427e3c",
   "metadata": {},
   "outputs": [],
   "source": [
    "labeled = 100\n",
    "unlabeled = 59900\n",
    "\n",
    "n_lp = labeled\n",
    "n_u = unlabeled"
   ]
  },
  {
   "cell_type": "code",
   "execution_count": 23,
   "id": "c265b256",
   "metadata": {},
   "outputs": [],
   "source": [
    "if labeled + unlabeled == len(x):\n",
    "    n_up = n_p - n_lp\n",
    "elif unlabeled == len(x):\n",
    "    n_up = n_p\n",
    "else:\n",
    "    raise ValueError(\"Only support |P|+|U|=|X| or |U|=|X|.\")"
   ]
  },
  {
   "cell_type": "code",
   "execution_count": 24,
   "id": "494da09d",
   "metadata": {},
   "outputs": [
    {
     "data": {
      "text/plain": [
       "(29392, 29492)"
      ]
     },
     "execution_count": 24,
     "metadata": {},
     "output_type": "execute_result"
    }
   ],
   "source": [
    "n_up, n_p"
   ]
  },
  {
   "cell_type": "code",
   "execution_count": 25,
   "id": "b6854fe8",
   "metadata": {},
   "outputs": [],
   "source": [
    "_prior = float(n_up) / float(n_u)"
   ]
  },
  {
   "cell_type": "code",
   "execution_count": 26,
   "id": "578c208b",
   "metadata": {},
   "outputs": [
    {
     "data": {
      "text/plain": [
       "0.4906844741235392"
      ]
     },
     "execution_count": 26,
     "metadata": {},
     "output_type": "execute_result"
    }
   ],
   "source": [
    "_prior"
   ]
  },
  {
   "cell_type": "code",
   "execution_count": 27,
   "id": "ed230eb0",
   "metadata": {},
   "outputs": [],
   "source": [
    "xlp = x[y == positive][:n_lp]"
   ]
  },
  {
   "cell_type": "code",
   "execution_count": 28,
   "id": "dfdadce5",
   "metadata": {},
   "outputs": [],
   "source": [
    "xup = np.concatenate((x[y == positive][n_lp:], xlp), axis=0)[:n_up]"
   ]
  },
  {
   "cell_type": "code",
   "execution_count": 29,
   "id": "b5f0865c",
   "metadata": {},
   "outputs": [
    {
     "data": {
      "text/plain": [
       "(30508, 784)"
      ]
     },
     "execution_count": 29,
     "metadata": {},
     "output_type": "execute_result"
    }
   ],
   "source": [
    "xun = x[y == negative]\n",
    "xun.shape"
   ]
  },
  {
   "cell_type": "code",
   "execution_count": 30,
   "id": "55e58236",
   "metadata": {},
   "outputs": [
    {
     "data": {
      "text/plain": [
       "(60000, 784)"
      ]
     },
     "execution_count": 30,
     "metadata": {},
     "output_type": "execute_result"
    }
   ],
   "source": [
    "x = np.asarray(np.concatenate((xlp, xup, xun), axis=0), dtype=np.float32)\n",
    "x.shape"
   ]
  },
  {
   "cell_type": "code",
   "execution_count": 31,
   "id": "ccfdcfcc",
   "metadata": {},
   "outputs": [],
   "source": [
    "y = np.asarray(np.concatenate((np.ones(n_lp), -np.ones(n_u))), dtype=np.int32)\n",
    "perm = np.random.permutation(len(y))\n",
    "x, y = x[perm], y[perm]"
   ]
  },
  {
   "cell_type": "code",
   "execution_count": 32,
   "id": "b6a45320",
   "metadata": {},
   "outputs": [
    {
     "data": {
      "text/plain": [
       "((60000, 784), (60000,))"
      ]
     },
     "execution_count": 32,
     "metadata": {},
     "output_type": "execute_result"
    }
   ],
   "source": [
    "x.shape, y.shape"
   ]
  },
  {
   "cell_type": "code",
   "execution_count": 33,
   "id": "4236bb85",
   "metadata": {
    "scrolled": true
   },
   "outputs": [
    {
     "data": {
      "text/plain": [
       "(array([-1,  1], dtype=int32), array([59900,   100]))"
      ]
     },
     "execution_count": 33,
     "metadata": {},
     "output_type": "execute_result"
    }
   ],
   "source": [
    "np.unique(y, return_counts=True)"
   ]
  },
  {
   "cell_type": "code",
   "execution_count": 34,
   "id": "b885adba",
   "metadata": {},
   "outputs": [
    {
     "data": {
      "text/plain": [
       "1.0"
      ]
     },
     "execution_count": 34,
     "metadata": {},
     "output_type": "execute_result"
    }
   ],
   "source": [
    "x.max()"
   ]
  },
  {
   "cell_type": "code",
   "execution_count": 71,
   "id": "f51f4413",
   "metadata": {},
   "outputs": [],
   "source": [
    "n_labeled = 100\n",
    "n_unlabeled = 59900"
   ]
  },
  {
   "cell_type": "code",
   "execution_count": 72,
   "id": "a9c3ba4e",
   "metadata": {},
   "outputs": [],
   "source": [
    "def make_pu_dataset_from_binary_dataset(x, y, labeled=n_labeled, unlabeled=n_unlabeled):\n",
    "    labels = np.unique(y)\n",
    "    positive, negative = labels[1], labels[0]\n",
    "    \n",
    "    x, y = np.asarray(x, dtype=np.float32), np.asarray(y, dtype=np.int32)\n",
    "    assert(len(x) == len(y))\n",
    "    \n",
    "    # Random permutation of np.arange(len(y))\n",
    "    perm = np.random.permutation(len(y))\n",
    "    \n",
    "    # Randomly shuffle x and y\n",
    "    x, y = x[perm], y[perm]\n",
    "    \n",
    "    n_p = (y == positive).sum()\n",
    "    n_lp = labeled\n",
    "    n_n = (y == negative).sum()\n",
    "    n_u = unlabeled\n",
    "    \n",
    "    if labeled + unlabeled == len(x):\n",
    "        n_up = n_p - n_lp\n",
    "    elif unlabeled == len(x):\n",
    "        n_up = n_p\n",
    "    else:\n",
    "        raise ValueError(\"Only support |P|+|U|=|X| or |U|=|X|.\")\n",
    "        \n",
    "    _prior = float(n_up) / float(n_u)\n",
    "    \n",
    "    xlp = x[y == positive][:n_lp]\n",
    "    xup = np.concatenate((x[y == positive][n_lp:], xlp), axis=0)[:n_up]\n",
    "    xun = x[y == negative]\n",
    "    x = np.asarray(np.concatenate((xlp, xup, xun), axis=0), dtype=np.float32)\n",
    "    print(x.shape)\n",
    "    y = np.asarray(np.concatenate((np.ones(n_lp), -np.ones(n_u))), dtype=np.int32)\n",
    "    perm = np.random.permutation(len(y))\n",
    "    x, y = x[perm], y[perm]\n",
    "    return x, y, _prior\n"
   ]
  },
  {
   "cell_type": "code",
   "execution_count": 75,
   "id": "8adc7e84",
   "metadata": {},
   "outputs": [
    {
     "name": "stdout",
     "output_type": "stream",
     "text": [
      "(60000, 784)\n"
     ]
    }
   ],
   "source": [
    "x_train, y_train, prior = make_pu_dataset_from_binary_dataset(x_train, y_train)"
   ]
  },
  {
   "cell_type": "code",
   "execution_count": 77,
   "id": "eac278e3",
   "metadata": {},
   "outputs": [
    {
     "data": {
      "text/plain": [
       "(array([-1,  1], dtype=int32), array([59900,   100]))"
      ]
     },
     "execution_count": 77,
     "metadata": {},
     "output_type": "execute_result"
    }
   ],
   "source": [
    "np.unique(y_train, return_counts=True)"
   ]
  },
  {
   "cell_type": "code",
   "execution_count": null,
   "id": "0c6d8dfd",
   "metadata": {},
   "outputs": [],
   "source": [
    "def make_pn_dataset_from_binary_dataset(x, y):\n",
    "        labels = np.unique(y)\n",
    "        positive, negative = labels[1], labels[0]\n",
    "        X, Y = np.asarray(x, dtype=np.float32), np.asarray(y, dtype=np.int32)\n",
    "        n_p = (Y == positive).sum()\n",
    "        n_n = (Y == negative).sum()\n",
    "        Xp = X[Y == positive][:n_p]\n",
    "        Xn = X[Y == negative][:n_n]\n",
    "        X = np.asarray(np.concatenate((Xp, Xn)), dtype=np.float32)\n",
    "        Y = np.asarray(np.concatenate((np.ones(n_p), -np.ones(n_n))), dtype=np.int32)\n",
    "        perm = np.random.permutation(len(Y))\n",
    "        X, Y = X[perm], Y[perm]\n",
    "        return X, Y"
   ]
  },
  {
   "cell_type": "code",
   "execution_count": null,
   "id": "2b34ad48",
   "metadata": {},
   "outputs": [],
   "source": [
    "x_test, y_test = make_pn_dataset_from_binary_dataset(x_test, y_test)"
   ]
  },
  {
   "cell_type": "code",
   "execution_count": null,
   "id": "d7cb7442",
   "metadata": {},
   "outputs": [],
   "source": [
    "x_test.shape"
   ]
  },
  {
   "cell_type": "code",
   "execution_count": null,
   "id": "d7c8c209",
   "metadata": {},
   "outputs": [],
   "source": [
    "np.unique(y_test, return_counts=True)"
   ]
  },
  {
   "cell_type": "code",
   "execution_count": 36,
   "id": "a0231c15",
   "metadata": {},
   "outputs": [],
   "source": [
    "import pandas as pd"
   ]
  },
  {
   "cell_type": "code",
   "execution_count": 106,
   "id": "f8508fb7",
   "metadata": {},
   "outputs": [],
   "source": [
    "def read_riboseq_data(prior=0.05):\n",
    "    df = pd.read_csv(\"../data/final_ckpt_with_labels.csv\")\n",
    "    \n",
    "    df['is_start_position'] = df['is_start_position'].replace({True: 1, False: -1})\n",
    "    \n",
    "    position = df['position'].values\n",
    "    gene = df['gene'].values\n",
    "    \n",
    "    y_orig = df['is_start_position'].values\n",
    "    \n",
    "    n_fake_pos = 100\n",
    "    fake_pos = np.random.permutation(df[df['is_start_position'] == 1]['position'])[:n_fake_pos]\n",
    "    \n",
    "    df['fake_label'] = df['is_start_position'].copy()\n",
    "    df.loc[df['position'].isin(fake_pos), 'fake_label'] = -1\n",
    "    \n",
    "    X_train = df.drop(['Unnamed: 0', 'position', 'gene', 'is_start_position', 'fake_label'], axis=1).values\n",
    "    y_train = df['fake_label'].values\n",
    "    \n",
    "    X_test = df[df['fake_label'] == -1].drop(\n",
    "        ['Unnamed: 0', 'position', 'gene', 'is_start_position', 'fake_label'], axis=1\n",
    "    ).values\n",
    "    \n",
    "    y_test = df[df['fake_label'] == -1]['is_start_position'].values\n",
    "    \n",
    "    X_train, y_train = np.asarray(X_train, dtype=np.float32), np.asarray(y_train, dtype=np.int32)\n",
    "    X_test, y_test = np.asarray(X_test, dtype=np.float32), np.asarray(y_test, dtype=np.int32)\n",
    "    \n",
    "    X_train = X_train.reshape((-1, 1, 31, 21))\n",
    "    X_test = X_test.reshape((-1, 1, 31, 21))\n",
    "    \n",
    "    return X_train, X_test, y_train, y_test, prior, fake_pos, gene"
   ]
  },
  {
   "cell_type": "code",
   "execution_count": 107,
   "id": "5b5eb763",
   "metadata": {},
   "outputs": [],
   "source": [
    "X_train, X_test, y_train, y_test, prior, fake_pos, gene = read_riboseq_data()"
   ]
  },
  {
   "cell_type": "code",
   "execution_count": 109,
   "id": "ce573cd6",
   "metadata": {},
   "outputs": [
    {
     "data": {
      "text/plain": [
       "(115313, 651)"
      ]
     },
     "execution_count": 109,
     "metadata": {},
     "output_type": "execute_result"
    }
   ],
   "source": [
    "X_train.shape"
   ]
  },
  {
   "cell_type": "code",
   "execution_count": 110,
   "id": "c9632066",
   "metadata": {},
   "outputs": [
    {
     "data": {
      "text/plain": [
       "651"
      ]
     },
     "execution_count": 110,
     "metadata": {},
     "output_type": "execute_result"
    }
   ],
   "source": [
    "31*21"
   ]
  },
  {
   "cell_type": "code",
   "execution_count": 114,
   "id": "218a2c9c",
   "metadata": {},
   "outputs": [
    {
     "data": {
      "text/plain": [
       "(array([-1,  1], dtype=int32), array([113965,    101]))"
      ]
     },
     "execution_count": 114,
     "metadata": {},
     "output_type": "execute_result"
    }
   ],
   "source": [
    "np.unique(y_test, return_counts=True)"
   ]
  },
  {
   "cell_type": "code",
   "execution_count": 112,
   "id": "68e4b072",
   "metadata": {},
   "outputs": [
    {
     "data": {
      "text/plain": [
       "(115313, 1, 31, 21)"
      ]
     },
     "execution_count": 112,
     "metadata": {},
     "output_type": "execute_result"
    }
   ],
   "source": [
    ".shape"
   ]
  },
  {
   "cell_type": "code",
   "execution_count": null,
   "id": "e1162506",
   "metadata": {},
   "outputs": [],
   "source": []
  }
 ],
 "metadata": {
  "kernelspec": {
   "display_name": "Python 3",
   "language": "python",
   "name": "python3"
  },
  "language_info": {
   "codemirror_mode": {
    "name": "ipython",
    "version": 3
   },
   "file_extension": ".py",
   "mimetype": "text/x-python",
   "name": "python",
   "nbconvert_exporter": "python",
   "pygments_lexer": "ipython3",
   "version": "3.8.8"
  }
 },
 "nbformat": 4,
 "nbformat_minor": 5
}
