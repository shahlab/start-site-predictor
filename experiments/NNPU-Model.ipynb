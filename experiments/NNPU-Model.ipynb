{
 "cells": [
  {
   "cell_type": "code",
   "execution_count": 2,
   "id": "30f2ba4b",
   "metadata": {},
   "outputs": [],
   "source": [
    "import numpy as np\n",
    "import urllib.request\n",
    "import os\n",
    "import tarfile\n",
    "import pickle\n",
    "from sklearn.datasets import fetch_openml"
   ]
  },
  {
   "cell_type": "code",
   "execution_count": 9,
   "id": "71213966",
   "metadata": {},
   "outputs": [],
   "source": [
    "def get_mnist():\n",
    "    mnist = fetch_openml('mnist_784', data_home=\".\")\n",
    "\n",
    "    x = mnist.data\n",
    "    y = mnist.target\n",
    "    # reshape to (#data, #channel, width, height)\n",
    "    x = np.reshape(x, (x.shape[0], 1, 28, 28)) / 255.\n",
    "    x_tr = np.asarray(x[:60000], dtype=np.float32)\n",
    "    y_tr = np.asarray(y[:60000], dtype=np.int32)\n",
    "    x_te = np.asarray(x[60000:], dtype=np.float32)\n",
    "    y_te = np.asarray(y[60000:], dtype=np.int32)\n",
    "    return (x_tr, y_tr), (x_te, y_te)"
   ]
  },
  {
   "cell_type": "code",
   "execution_count": 11,
   "id": "cfa48928",
   "metadata": {},
   "outputs": [],
   "source": [
    "mnist = fetch_openml('mnist_784', data_home=\".\")\n",
    "\n",
    "x = mnist.data\n",
    "y = mnist.target"
   ]
  },
  {
   "cell_type": "code",
   "execution_count": 14,
   "id": "7fb3666a",
   "metadata": {},
   "outputs": [
    {
     "data": {
      "text/plain": [
       "(70000, 784)"
      ]
     },
     "execution_count": 14,
     "metadata": {},
     "output_type": "execute_result"
    }
   ],
   "source": [
    "x.shape"
   ]
  },
  {
   "cell_type": "code",
   "execution_count": 16,
   "id": "5265d0f9",
   "metadata": {},
   "outputs": [
    {
     "data": {
      "text/plain": [
       "(70000, 784)"
      ]
     },
     "execution_count": 16,
     "metadata": {},
     "output_type": "execute_result"
    }
   ],
   "source": [
    "x.shape"
   ]
  },
  {
   "cell_type": "code",
   "execution_count": 18,
   "id": "4d964584",
   "metadata": {},
   "outputs": [],
   "source": [
    "x = x/255."
   ]
  },
  {
   "cell_type": "code",
   "execution_count": 20,
   "id": "087f1657",
   "metadata": {},
   "outputs": [],
   "source": [
    "x_tr = np.asarray(x[:60000], dtype=np.float32)\n",
    "y_tr = np.asarray(y[:60000], dtype=np.int32)\n",
    "x_te = np.asarray(x[60000:], dtype=np.float32)\n",
    "y_te = np.asarray(y[60000:], dtype=np.int32)"
   ]
  },
  {
   "cell_type": "code",
   "execution_count": 21,
   "id": "23a50f5d",
   "metadata": {},
   "outputs": [
    {
     "data": {
      "text/plain": [
       "((60000, 784), (60000,), (10000, 784), (10000,))"
      ]
     },
     "execution_count": 21,
     "metadata": {},
     "output_type": "execute_result"
    }
   ],
   "source": [
    "x_tr.shape, y_tr.shape, x_te.shape, y_te.shape"
   ]
  },
  {
   "cell_type": "code",
   "execution_count": 22,
   "id": "c0fd0bba",
   "metadata": {},
   "outputs": [],
   "source": [
    "def binarize_mnist_class(y_train, y_test):\n",
    "    y_train_bin = np.ones(len(y_train), dtype=np.int32)\n",
    "    y_train_bin[y_train % 2 == 1] = -1\n",
    "    y_test_bin = np.ones(len(y_test), dtype=np.int32)\n",
    "    y_test_bin[y_test % 2 == 1] = -1\n",
    "    return y_train_bin, y_test_bin"
   ]
  },
  {
   "cell_type": "code",
   "execution_count": 23,
   "id": "6366f5ae",
   "metadata": {},
   "outputs": [],
   "source": [
    "y_train, y_test = binarize_mnist_class(y_tr, y_te)"
   ]
  },
  {
   "cell_type": "code",
   "execution_count": 28,
   "id": "f4dfc2e5",
   "metadata": {},
   "outputs": [],
   "source": [
    "x_train, x_test = x_tr.copy(), x_te.copy()"
   ]
  },
  {
   "cell_type": "code",
   "execution_count": 26,
   "id": "d201a547",
   "metadata": {},
   "outputs": [
    {
     "data": {
      "text/plain": [
       "array([0, 1, 2, 3, 4, 5, 6, 7, 8, 9], dtype=int32)"
      ]
     },
     "execution_count": 26,
     "metadata": {},
     "output_type": "execute_result"
    }
   ],
   "source": [
    "np.unique(y_tr)"
   ]
  },
  {
   "cell_type": "code",
   "execution_count": 30,
   "id": "cc8ce42d",
   "metadata": {},
   "outputs": [
    {
     "data": {
      "text/plain": [
       "(array([-1,  1], dtype=int32), array([30508, 29492]))"
      ]
     },
     "execution_count": 30,
     "metadata": {},
     "output_type": "execute_result"
    }
   ],
   "source": [
    "np.unique(y_train, return_counts=True)"
   ]
  },
  {
   "cell_type": "code",
   "execution_count": 31,
   "id": "26ead0d5",
   "metadata": {},
   "outputs": [],
   "source": [
    "x = x_train.copy()\n",
    "y = y_train.copy()"
   ]
  },
  {
   "cell_type": "code",
   "execution_count": 32,
   "id": "92fdf47e",
   "metadata": {},
   "outputs": [
    {
     "data": {
      "text/plain": [
       "array([-1,  1], dtype=int32)"
      ]
     },
     "execution_count": 32,
     "metadata": {},
     "output_type": "execute_result"
    }
   ],
   "source": [
    "labels = np.unique(y)\n",
    "labels"
   ]
  },
  {
   "cell_type": "code",
   "execution_count": 33,
   "id": "1ac631f6",
   "metadata": {},
   "outputs": [],
   "source": [
    "positive, negative = labels[1], labels[0]"
   ]
  },
  {
   "cell_type": "code",
   "execution_count": 34,
   "id": "cdb38d3c",
   "metadata": {},
   "outputs": [
    {
     "data": {
      "text/plain": [
       "(1, -1)"
      ]
     },
     "execution_count": 34,
     "metadata": {},
     "output_type": "execute_result"
    }
   ],
   "source": [
    "positive, negative"
   ]
  },
  {
   "cell_type": "code",
   "execution_count": 35,
   "id": "83f010ee",
   "metadata": {},
   "outputs": [],
   "source": [
    "x, y = np.asarray(x, dtype=np.float32), np.asarray(y, dtype=np.int32)\n",
    "assert(len(x) == len(y))"
   ]
  },
  {
   "cell_type": "code",
   "execution_count": 37,
   "id": "37c5c5d1",
   "metadata": {},
   "outputs": [
    {
     "data": {
      "text/plain": [
       "((60000, 784), (60000,))"
      ]
     },
     "execution_count": 37,
     "metadata": {},
     "output_type": "execute_result"
    }
   ],
   "source": [
    "x.shape, y.shape"
   ]
  },
  {
   "cell_type": "code",
   "execution_count": 39,
   "id": "944c1735",
   "metadata": {},
   "outputs": [],
   "source": [
    "# Random permutation of np.arange(len(y))\n",
    "perm = np.random.permutation(len(y))\n",
    "\n",
    "# Randomly shuffle x and y\n",
    "x, y = x[perm], y[perm]"
   ]
  },
  {
   "cell_type": "code",
   "execution_count": 42,
   "id": "c09b4e50",
   "metadata": {},
   "outputs": [
    {
     "data": {
      "text/plain": [
       "(29492, 30508)"
      ]
     },
     "execution_count": 42,
     "metadata": {},
     "output_type": "execute_result"
    }
   ],
   "source": [
    "n_p = (y == positive).sum()\n",
    "n_n = (y == negative).sum()\n",
    "\n",
    "n_p, n_n"
   ]
  },
  {
   "cell_type": "code",
   "execution_count": 43,
   "id": "0a427e3c",
   "metadata": {},
   "outputs": [],
   "source": [
    "labeled = 100\n",
    "unlabeled = 59900\n",
    "\n",
    "n_lp = labeled\n",
    "n_u = unlabeled"
   ]
  },
  {
   "cell_type": "code",
   "execution_count": 44,
   "id": "c265b256",
   "metadata": {},
   "outputs": [],
   "source": [
    "if labeled + unlabeled == len(x):\n",
    "    n_up = n_p - n_lp\n",
    "elif unlabeled == len(x):\n",
    "    n_up = n_p\n",
    "else:\n",
    "    raise ValueError(\"Only support |P|+|U|=|X| or |U|=|X|.\")"
   ]
  },
  {
   "cell_type": "code",
   "execution_count": 46,
   "id": "494da09d",
   "metadata": {},
   "outputs": [
    {
     "data": {
      "text/plain": [
       "(29392, 29492)"
      ]
     },
     "execution_count": 46,
     "metadata": {},
     "output_type": "execute_result"
    }
   ],
   "source": [
    "n_up, n_p"
   ]
  },
  {
   "cell_type": "code",
   "execution_count": 47,
   "id": "b6854fe8",
   "metadata": {},
   "outputs": [],
   "source": [
    "_prior = float(n_up) / float(n_u)"
   ]
  },
  {
   "cell_type": "code",
   "execution_count": 48,
   "id": "578c208b",
   "metadata": {},
   "outputs": [
    {
     "data": {
      "text/plain": [
       "0.4906844741235392"
      ]
     },
     "execution_count": 48,
     "metadata": {},
     "output_type": "execute_result"
    }
   ],
   "source": [
    "_prior"
   ]
  },
  {
   "cell_type": "code",
   "execution_count": 49,
   "id": "ed230eb0",
   "metadata": {},
   "outputs": [],
   "source": [
    "xlp = x[y == positive][:n_lp]"
   ]
  },
  {
   "cell_type": "code",
   "execution_count": 50,
   "id": "dfdadce5",
   "metadata": {},
   "outputs": [],
   "source": [
    "xup = np.concatenate((x[y == positive][n_lp:], xlp), axis=0)[:n_up]"
   ]
  },
  {
   "cell_type": "code",
   "execution_count": 52,
   "id": "b5f0865c",
   "metadata": {},
   "outputs": [
    {
     "data": {
      "text/plain": [
       "(30508, 784)"
      ]
     },
     "execution_count": 52,
     "metadata": {},
     "output_type": "execute_result"
    }
   ],
   "source": [
    "xun = x[y == negative]\n",
    "xun.shape"
   ]
  },
  {
   "cell_type": "code",
   "execution_count": 53,
   "id": "55e58236",
   "metadata": {},
   "outputs": [
    {
     "data": {
      "text/plain": [
       "(60000, 784)"
      ]
     },
     "execution_count": 53,
     "metadata": {},
     "output_type": "execute_result"
    }
   ],
   "source": [
    "x = np.asarray(np.concatenate((xlp, xup, xun), axis=0), dtype=np.float32)\n",
    "x.shape"
   ]
  },
  {
   "cell_type": "code",
   "execution_count": 55,
   "id": "ccfdcfcc",
   "metadata": {},
   "outputs": [],
   "source": [
    "y = np.asarray(np.concatenate((np.ones(n_lp), -np.ones(n_u))), dtype=np.int32)\n",
    "perm = np.random.permutation(len(y))\n",
    "x, y = x[perm], y[perm]"
   ]
  },
  {
   "cell_type": "code",
   "execution_count": 56,
   "id": "b6a45320",
   "metadata": {},
   "outputs": [
    {
     "data": {
      "text/plain": [
       "((60000, 784), (60000,))"
      ]
     },
     "execution_count": 56,
     "metadata": {},
     "output_type": "execute_result"
    }
   ],
   "source": [
    "x.shape, y.shape"
   ]
  },
  {
   "cell_type": "code",
   "execution_count": 59,
   "id": "4236bb85",
   "metadata": {
    "scrolled": true
   },
   "outputs": [
    {
     "data": {
      "text/plain": [
       "(array([-1,  1], dtype=int32), array([59900,   100]))"
      ]
     },
     "execution_count": 59,
     "metadata": {},
     "output_type": "execute_result"
    }
   ],
   "source": [
    "np.unique(y, return_counts=True)"
   ]
  },
  {
   "cell_type": "code",
   "execution_count": 69,
   "id": "b885adba",
   "metadata": {},
   "outputs": [
    {
     "data": {
      "text/plain": [
       "1.0"
      ]
     },
     "execution_count": 69,
     "metadata": {},
     "output_type": "execute_result"
    }
   ],
   "source": [
    "x.max()"
   ]
  },
  {
   "cell_type": "code",
   "execution_count": null,
   "id": "a9c3ba4e",
   "metadata": {},
   "outputs": [],
   "source": [
    "def make_pu_dataset_from_binary_dataset(x, y, labeled=n_labeled, unlabeled=n_unlabeled):\n",
    "    labels = np.unique(y)\n",
    "    positive, negative = labels[1], labels[0]\n",
    "    \n",
    "    x, y = np.asarray(x, dtype=np.float32), np.asarray(y, dtype=np.int32)\n",
    "    assert(len(x) == len(y))\n",
    "    \n",
    "    # Random permutation of np.arange(len(y))\n",
    "    perm = np.random.permutation(len(y))\n",
    "    \n",
    "    # Randomly shuffle x and y\n",
    "    x, y = x[perm], y[perm]\n",
    "    \n",
    "    n_p = (y == positive).sum()\n",
    "    n_lp = labeled\n",
    "    n_n = (y == negative).sum()\n",
    "    n_u = unlabeled\n",
    "    \n",
    "    if labeled + unlabeled == len(x):\n",
    "        n_up = n_p - n_lp\n",
    "    elif unlabeled == len(x):\n",
    "        n_up = n_p\n",
    "    else:\n",
    "        raise ValueError(\"Only support |P|+|U|=|X| or |U|=|X|.\")\n",
    "        \n",
    "    _prior = float(n_up) / float(n_u)\n",
    "    \n",
    "    xlp = x[y == positive][:n_lp]\n",
    "    xup = np.concatenate((x[y == positive][n_lp:], xlp), axis=0)[:n_up]\n",
    "    xun = x[y == negative]\n",
    "    x = np.asarray(np.concatenate((xlp, xup, xun), axis=0), dtype=np.float32)\n",
    "    print(x.shape)\n",
    "    y = np.asarray(np.concatenate((np.ones(n_lp), -np.ones(n_u))), dtype=np.int32)\n",
    "    perm = np.random.permutation(len(y))\n",
    "    x, y = x[perm], y[perm]\n",
    "    return x, y, _prior\n"
   ]
  },
  {
   "cell_type": "code",
   "execution_count": 70,
   "id": "0c6d8dfd",
   "metadata": {},
   "outputs": [],
   "source": [
    "def make_pn_dataset_from_binary_dataset(x, y):\n",
    "        labels = np.unique(y)\n",
    "        positive, negative = labels[1], labels[0]\n",
    "        X, Y = np.asarray(x, dtype=np.float32), np.asarray(y, dtype=np.int32)\n",
    "        n_p = (Y == positive).sum()\n",
    "        n_n = (Y == negative).sum()\n",
    "        Xp = X[Y == positive][:n_p]\n",
    "        Xn = X[Y == negative][:n_n]\n",
    "        X = np.asarray(np.concatenate((Xp, Xn)), dtype=np.float32)\n",
    "        Y = np.asarray(np.concatenate((np.ones(n_p), -np.ones(n_n))), dtype=np.int32)\n",
    "        perm = np.random.permutation(len(Y))\n",
    "        X, Y = X[perm], Y[perm]\n",
    "        return X, Y"
   ]
  },
  {
   "cell_type": "code",
   "execution_count": 71,
   "id": "2b34ad48",
   "metadata": {},
   "outputs": [],
   "source": [
    "x_test, y_test = make_pn_dataset_from_binary_dataset(x_test, y_test)"
   ]
  },
  {
   "cell_type": "code",
   "execution_count": 73,
   "id": "d7cb7442",
   "metadata": {},
   "outputs": [
    {
     "data": {
      "text/plain": [
       "(10000, 784)"
      ]
     },
     "execution_count": 73,
     "metadata": {},
     "output_type": "execute_result"
    }
   ],
   "source": [
    "x_test.shape"
   ]
  },
  {
   "cell_type": "code",
   "execution_count": 77,
   "id": "d7c8c209",
   "metadata": {},
   "outputs": [
    {
     "data": {
      "text/plain": [
       "(array([-1,  1], dtype=int32), array([5074, 4926]))"
      ]
     },
     "execution_count": 77,
     "metadata": {},
     "output_type": "execute_result"
    }
   ],
   "source": [
    "np.unique(y_test, return_counts=True)"
   ]
  },
  {
   "cell_type": "code",
   "execution_count": 62,
   "id": "a0231c15",
   "metadata": {},
   "outputs": [],
   "source": [
    "import pandas as pd"
   ]
  },
  {
   "cell_type": "code",
   "execution_count": 60,
   "id": "f8508fb7",
   "metadata": {},
   "outputs": [],
   "source": [
    "def read_riboseq_data():\n",
    "    df = pd.read_csv(\"../data/final_ckpt_with_labels.csv\")\n",
    "    return df"
   ]
  },
  {
   "cell_type": "code",
   "execution_count": 63,
   "id": "5b5eb763",
   "metadata": {},
   "outputs": [],
   "source": [
    "df = read_riboseq_data()"
   ]
  },
  {
   "cell_type": "code",
   "execution_count": 65,
   "id": "f74ed4ef",
   "metadata": {},
   "outputs": [],
   "source": [
    "df['is_start_position'] = df['is_start_position'].replace({True: 1, False: -1})"
   ]
  },
  {
   "cell_type": "code",
   "execution_count": 67,
   "id": "cf3cf7a4",
   "metadata": {},
   "outputs": [
    {
     "data": {
      "text/plain": [
       "-1    113965\n",
       " 1      1348\n",
       "Name: is_start_position, dtype: int64"
      ]
     },
     "execution_count": 67,
     "metadata": {},
     "output_type": "execute_result"
    }
   ],
   "source": [
    "df['is_start_position'].value_counts()"
   ]
  },
  {
   "cell_type": "code",
   "execution_count": 78,
   "id": "d3aba40a",
   "metadata": {},
   "outputs": [
    {
     "data": {
      "text/html": [
       "<div>\n",
       "<style scoped>\n",
       "    .dataframe tbody tr th:only-of-type {\n",
       "        vertical-align: middle;\n",
       "    }\n",
       "\n",
       "    .dataframe tbody tr th {\n",
       "        vertical-align: top;\n",
       "    }\n",
       "\n",
       "    .dataframe thead th {\n",
       "        text-align: right;\n",
       "    }\n",
       "</style>\n",
       "<table border=\"1\" class=\"dataframe\">\n",
       "  <thead>\n",
       "    <tr style=\"text-align: right;\">\n",
       "      <th></th>\n",
       "      <th>Unnamed: 0</th>\n",
       "      <th>rl_15-15</th>\n",
       "      <th>rl_16-15</th>\n",
       "      <th>rl_17-15</th>\n",
       "      <th>rl_18-15</th>\n",
       "      <th>rl_19-15</th>\n",
       "      <th>rl_20-15</th>\n",
       "      <th>rl_21-15</th>\n",
       "      <th>rl_22-15</th>\n",
       "      <th>rl_23-15</th>\n",
       "      <th>...</th>\n",
       "      <th>rl_29+15</th>\n",
       "      <th>rl_30+15</th>\n",
       "      <th>rl_31+15</th>\n",
       "      <th>A+15</th>\n",
       "      <th>C+15</th>\n",
       "      <th>G+15</th>\n",
       "      <th>T+15</th>\n",
       "      <th>position</th>\n",
       "      <th>gene</th>\n",
       "      <th>is_start_position</th>\n",
       "    </tr>\n",
       "  </thead>\n",
       "  <tbody>\n",
       "    <tr>\n",
       "      <th>0</th>\n",
       "      <td>0</td>\n",
       "      <td>0</td>\n",
       "      <td>0</td>\n",
       "      <td>0</td>\n",
       "      <td>0</td>\n",
       "      <td>0</td>\n",
       "      <td>0</td>\n",
       "      <td>0</td>\n",
       "      <td>0</td>\n",
       "      <td>0</td>\n",
       "      <td>...</td>\n",
       "      <td>0</td>\n",
       "      <td>0</td>\n",
       "      <td>0</td>\n",
       "      <td>1</td>\n",
       "      <td>0</td>\n",
       "      <td>0</td>\n",
       "      <td>0</td>\n",
       "      <td>48</td>\n",
       "      <td>NaN</td>\n",
       "      <td>-1</td>\n",
       "    </tr>\n",
       "    <tr>\n",
       "      <th>1</th>\n",
       "      <td>1</td>\n",
       "      <td>0</td>\n",
       "      <td>0</td>\n",
       "      <td>0</td>\n",
       "      <td>0</td>\n",
       "      <td>0</td>\n",
       "      <td>0</td>\n",
       "      <td>0</td>\n",
       "      <td>0</td>\n",
       "      <td>0</td>\n",
       "      <td>...</td>\n",
       "      <td>0</td>\n",
       "      <td>0</td>\n",
       "      <td>0</td>\n",
       "      <td>0</td>\n",
       "      <td>0</td>\n",
       "      <td>0</td>\n",
       "      <td>1</td>\n",
       "      <td>49</td>\n",
       "      <td>NaN</td>\n",
       "      <td>-1</td>\n",
       "    </tr>\n",
       "    <tr>\n",
       "      <th>2</th>\n",
       "      <td>2</td>\n",
       "      <td>0</td>\n",
       "      <td>0</td>\n",
       "      <td>0</td>\n",
       "      <td>0</td>\n",
       "      <td>0</td>\n",
       "      <td>0</td>\n",
       "      <td>0</td>\n",
       "      <td>0</td>\n",
       "      <td>0</td>\n",
       "      <td>...</td>\n",
       "      <td>0</td>\n",
       "      <td>0</td>\n",
       "      <td>0</td>\n",
       "      <td>1</td>\n",
       "      <td>0</td>\n",
       "      <td>0</td>\n",
       "      <td>0</td>\n",
       "      <td>50</td>\n",
       "      <td>NaN</td>\n",
       "      <td>-1</td>\n",
       "    </tr>\n",
       "    <tr>\n",
       "      <th>3</th>\n",
       "      <td>3</td>\n",
       "      <td>0</td>\n",
       "      <td>0</td>\n",
       "      <td>1</td>\n",
       "      <td>0</td>\n",
       "      <td>0</td>\n",
       "      <td>0</td>\n",
       "      <td>0</td>\n",
       "      <td>0</td>\n",
       "      <td>0</td>\n",
       "      <td>...</td>\n",
       "      <td>0</td>\n",
       "      <td>0</td>\n",
       "      <td>0</td>\n",
       "      <td>0</td>\n",
       "      <td>0</td>\n",
       "      <td>1</td>\n",
       "      <td>0</td>\n",
       "      <td>51</td>\n",
       "      <td>NaN</td>\n",
       "      <td>-1</td>\n",
       "    </tr>\n",
       "    <tr>\n",
       "      <th>4</th>\n",
       "      <td>4</td>\n",
       "      <td>0</td>\n",
       "      <td>0</td>\n",
       "      <td>0</td>\n",
       "      <td>0</td>\n",
       "      <td>0</td>\n",
       "      <td>0</td>\n",
       "      <td>0</td>\n",
       "      <td>0</td>\n",
       "      <td>0</td>\n",
       "      <td>...</td>\n",
       "      <td>0</td>\n",
       "      <td>0</td>\n",
       "      <td>0</td>\n",
       "      <td>0</td>\n",
       "      <td>1</td>\n",
       "      <td>0</td>\n",
       "      <td>0</td>\n",
       "      <td>52</td>\n",
       "      <td>NaN</td>\n",
       "      <td>-1</td>\n",
       "    </tr>\n",
       "    <tr>\n",
       "      <th>...</th>\n",
       "      <td>...</td>\n",
       "      <td>...</td>\n",
       "      <td>...</td>\n",
       "      <td>...</td>\n",
       "      <td>...</td>\n",
       "      <td>...</td>\n",
       "      <td>...</td>\n",
       "      <td>...</td>\n",
       "      <td>...</td>\n",
       "      <td>...</td>\n",
       "      <td>...</td>\n",
       "      <td>...</td>\n",
       "      <td>...</td>\n",
       "      <td>...</td>\n",
       "      <td>...</td>\n",
       "      <td>...</td>\n",
       "      <td>...</td>\n",
       "      <td>...</td>\n",
       "      <td>...</td>\n",
       "      <td>...</td>\n",
       "      <td>...</td>\n",
       "    </tr>\n",
       "    <tr>\n",
       "      <th>115308</th>\n",
       "      <td>115308</td>\n",
       "      <td>0</td>\n",
       "      <td>0</td>\n",
       "      <td>0</td>\n",
       "      <td>0</td>\n",
       "      <td>0</td>\n",
       "      <td>0</td>\n",
       "      <td>0</td>\n",
       "      <td>0</td>\n",
       "      <td>0</td>\n",
       "      <td>...</td>\n",
       "      <td>0</td>\n",
       "      <td>0</td>\n",
       "      <td>0</td>\n",
       "      <td>0</td>\n",
       "      <td>0</td>\n",
       "      <td>0</td>\n",
       "      <td>1</td>\n",
       "      <td>4640944</td>\n",
       "      <td>NaN</td>\n",
       "      <td>-1</td>\n",
       "    </tr>\n",
       "    <tr>\n",
       "      <th>115309</th>\n",
       "      <td>115309</td>\n",
       "      <td>0</td>\n",
       "      <td>0</td>\n",
       "      <td>0</td>\n",
       "      <td>0</td>\n",
       "      <td>0</td>\n",
       "      <td>0</td>\n",
       "      <td>0</td>\n",
       "      <td>0</td>\n",
       "      <td>0</td>\n",
       "      <td>...</td>\n",
       "      <td>0</td>\n",
       "      <td>0</td>\n",
       "      <td>0</td>\n",
       "      <td>0</td>\n",
       "      <td>1</td>\n",
       "      <td>0</td>\n",
       "      <td>0</td>\n",
       "      <td>4640945</td>\n",
       "      <td>NaN</td>\n",
       "      <td>-1</td>\n",
       "    </tr>\n",
       "    <tr>\n",
       "      <th>115310</th>\n",
       "      <td>115310</td>\n",
       "      <td>0</td>\n",
       "      <td>0</td>\n",
       "      <td>0</td>\n",
       "      <td>0</td>\n",
       "      <td>0</td>\n",
       "      <td>0</td>\n",
       "      <td>0</td>\n",
       "      <td>0</td>\n",
       "      <td>0</td>\n",
       "      <td>...</td>\n",
       "      <td>0</td>\n",
       "      <td>0</td>\n",
       "      <td>0</td>\n",
       "      <td>0</td>\n",
       "      <td>0</td>\n",
       "      <td>0</td>\n",
       "      <td>1</td>\n",
       "      <td>4640946</td>\n",
       "      <td>NaN</td>\n",
       "      <td>-1</td>\n",
       "    </tr>\n",
       "    <tr>\n",
       "      <th>115311</th>\n",
       "      <td>115311</td>\n",
       "      <td>0</td>\n",
       "      <td>0</td>\n",
       "      <td>0</td>\n",
       "      <td>0</td>\n",
       "      <td>0</td>\n",
       "      <td>0</td>\n",
       "      <td>0</td>\n",
       "      <td>0</td>\n",
       "      <td>0</td>\n",
       "      <td>...</td>\n",
       "      <td>0</td>\n",
       "      <td>0</td>\n",
       "      <td>0</td>\n",
       "      <td>0</td>\n",
       "      <td>0</td>\n",
       "      <td>1</td>\n",
       "      <td>0</td>\n",
       "      <td>4640947</td>\n",
       "      <td>NaN</td>\n",
       "      <td>-1</td>\n",
       "    </tr>\n",
       "    <tr>\n",
       "      <th>115312</th>\n",
       "      <td>115312</td>\n",
       "      <td>0</td>\n",
       "      <td>0</td>\n",
       "      <td>0</td>\n",
       "      <td>0</td>\n",
       "      <td>0</td>\n",
       "      <td>0</td>\n",
       "      <td>0</td>\n",
       "      <td>0</td>\n",
       "      <td>0</td>\n",
       "      <td>...</td>\n",
       "      <td>0</td>\n",
       "      <td>0</td>\n",
       "      <td>0</td>\n",
       "      <td>0</td>\n",
       "      <td>0</td>\n",
       "      <td>1</td>\n",
       "      <td>0</td>\n",
       "      <td>4640948</td>\n",
       "      <td>NaN</td>\n",
       "      <td>-1</td>\n",
       "    </tr>\n",
       "  </tbody>\n",
       "</table>\n",
       "<p>115313 rows × 655 columns</p>\n",
       "</div>"
      ],
      "text/plain": [
       "        Unnamed: 0  rl_15-15  rl_16-15  rl_17-15  rl_18-15  rl_19-15  \\\n",
       "0                0         0         0         0         0         0   \n",
       "1                1         0         0         0         0         0   \n",
       "2                2         0         0         0         0         0   \n",
       "3                3         0         0         1         0         0   \n",
       "4                4         0         0         0         0         0   \n",
       "...            ...       ...       ...       ...       ...       ...   \n",
       "115308      115308         0         0         0         0         0   \n",
       "115309      115309         0         0         0         0         0   \n",
       "115310      115310         0         0         0         0         0   \n",
       "115311      115311         0         0         0         0         0   \n",
       "115312      115312         0         0         0         0         0   \n",
       "\n",
       "        rl_20-15  rl_21-15  rl_22-15  rl_23-15  ...  rl_29+15  rl_30+15  \\\n",
       "0              0         0         0         0  ...         0         0   \n",
       "1              0         0         0         0  ...         0         0   \n",
       "2              0         0         0         0  ...         0         0   \n",
       "3              0         0         0         0  ...         0         0   \n",
       "4              0         0         0         0  ...         0         0   \n",
       "...          ...       ...       ...       ...  ...       ...       ...   \n",
       "115308         0         0         0         0  ...         0         0   \n",
       "115309         0         0         0         0  ...         0         0   \n",
       "115310         0         0         0         0  ...         0         0   \n",
       "115311         0         0         0         0  ...         0         0   \n",
       "115312         0         0         0         0  ...         0         0   \n",
       "\n",
       "        rl_31+15  A+15  C+15  G+15  T+15  position  gene  is_start_position  \n",
       "0              0     1     0     0     0        48   NaN                 -1  \n",
       "1              0     0     0     0     1        49   NaN                 -1  \n",
       "2              0     1     0     0     0        50   NaN                 -1  \n",
       "3              0     0     0     1     0        51   NaN                 -1  \n",
       "4              0     0     1     0     0        52   NaN                 -1  \n",
       "...          ...   ...   ...   ...   ...       ...   ...                ...  \n",
       "115308         0     0     0     0     1   4640944   NaN                 -1  \n",
       "115309         0     0     1     0     0   4640945   NaN                 -1  \n",
       "115310         0     0     0     0     1   4640946   NaN                 -1  \n",
       "115311         0     0     0     1     0   4640947   NaN                 -1  \n",
       "115312         0     0     0     1     0   4640948   NaN                 -1  \n",
       "\n",
       "[115313 rows x 655 columns]"
      ]
     },
     "execution_count": 78,
     "metadata": {},
     "output_type": "execute_result"
    }
   ],
   "source": [
    "df"
   ]
  },
  {
   "cell_type": "code",
   "execution_count": 83,
   "id": "4054f533",
   "metadata": {},
   "outputs": [
    {
     "name": "stdout",
     "output_type": "stream",
     "text": [
      "20305\n"
     ]
    }
   ],
   "source": [
    "WINDOW_LEN = 15\n",
    "\n",
    "def generate_colnames(df, window_len):\n",
    "\n",
    "    locs = np.arange(-window_len, window_len + 1, 1)\n",
    "\n",
    "    colnames = []\n",
    "    for loc in locs:\n",
    "        loc_str = str(loc) if loc < 0 else ('+' + str(loc))\n",
    "\n",
    "        colnames.append(col + loc_str)\n",
    "\n",
    "    return colnames\n",
    "        \n",
    "colnames = generate_colnames(df, WINDOW_LEN)\n",
    "print(len(colnames))"
   ]
  },
  {
   "cell_type": "code",
   "execution_count": null,
   "id": "0bde8670",
   "metadata": {},
   "outputs": [],
   "source": []
  }
 ],
 "metadata": {
  "kernelspec": {
   "display_name": "Python 3",
   "language": "python",
   "name": "python3"
  },
  "language_info": {
   "codemirror_mode": {
    "name": "ipython",
    "version": 3
   },
   "file_extension": ".py",
   "mimetype": "text/x-python",
   "name": "python",
   "nbconvert_exporter": "python",
   "pygments_lexer": "ipython3",
   "version": "3.8.8"
  }
 },
 "nbformat": 4,
 "nbformat_minor": 5
}
